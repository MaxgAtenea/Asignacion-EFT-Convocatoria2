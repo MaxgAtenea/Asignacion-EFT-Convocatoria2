{
 "cells": [
  {
   "cell_type": "markdown",
   "id": "105b55ad-ea62-4af6-ab0e-cbc7d9f5e1dc",
   "metadata": {},
   "source": [
    "## **Fijar el absolute path un directorio arriba**"
   ]
  },
  {
   "cell_type": "code",
   "execution_count": 1,
   "id": "f325d07d-db01-49cb-98e8-16566ec02c8d",
   "metadata": {},
   "outputs": [],
   "source": [
    "import sys\n",
    "import os\n",
    "# Add project root to Python path\n",
    "project_root = os.path.abspath(os.path.join(os.getcwd(), \"..\"))\n",
    "if project_root not in sys.path:\n",
    "    sys.path.append(project_root)"
   ]
  },
  {
   "cell_type": "code",
   "execution_count": 2,
   "id": "7bd07de8-7a09-4887-ba04-eaf3548832ad",
   "metadata": {},
   "outputs": [],
   "source": [
    "import pandas as pd\n",
    "import asignacion.utils as utils\n",
    "\n",
    "from asignacion.base import AsignacionBase\n",
    "from asignacion.nuevosyantiguos import AsignacionNuevosAntiguos\n",
    "from asignacion.antiguos import AsignacionAntiguos\n",
    "from asignacion.nuevos import AsignacionNuevos\n",
    "from asignacion.cerrados import AsignacionCerrados\n",
    "from asignacion.constants import RECURSOS_POR_RUTA"
   ]
  },
  {
   "cell_type": "markdown",
   "id": "fe0f2a5a-ce92-4f70-86a5-1519b31aa025",
   "metadata": {},
   "source": [
    "-----"
   ]
  },
  {
   "cell_type": "code",
   "execution_count": 3,
   "id": "cb985c57-1a31-416c-bdd2-973f47485bd3",
   "metadata": {},
   "outputs": [],
   "source": [
    "#Display options\n",
    "# Set pandas display format globally\n",
    "pd.options.display.float_format = \"{:,.3f}\".format"
   ]
  },
  {
   "cell_type": "markdown",
   "id": "d1dd79e4-044e-4644-a746-ef7dc1f7d6f1",
   "metadata": {},
   "source": [
    "# **Constantes**"
   ]
  },
  {
   "cell_type": "code",
   "execution_count": 4,
   "id": "6e441eb2-a713-42c7-b57b-a9618522d3ca",
   "metadata": {},
   "outputs": [],
   "source": [
    "#NOMBRE_ARCHIVO_HABILITADOS = \"Habilitados final 26052025.xlsx\"\n",
    "NOMBRE_ARCHIVO_HABILITADOS = \"28082025_Base_SAIGC.xlsx\"\n",
    "#NOMBRE_ARCHIVO_COMPLEMENTARIO = \"Base final - Oferta Activa.pkl\""
   ]
  },
  {
   "cell_type": "markdown",
   "id": "53ada2db-e31a-483e-9bb9-f59459813663",
   "metadata": {},
   "source": [
    "# **Ejecución**"
   ]
  },
  {
   "cell_type": "code",
   "execution_count": 5,
   "id": "f36282ed-ca76-4884-9fe0-e782f71f3008",
   "metadata": {},
   "outputs": [],
   "source": [
    "asignacion_base = AsignacionBase()"
   ]
  },
  {
   "cell_type": "code",
   "execution_count": 6,
   "id": "c1e5043a-9de2-46a3-afa1-8268f3ba8d68",
   "metadata": {},
   "outputs": [
    {
     "name": "stdout",
     "output_type": "stream",
     "text": [
      "Los errores quedaron logeados en: ..\\output\\logs\\validacion.log\n"
     ]
    },
    {
     "name": "stderr",
     "output_type": "stream",
     "text": [
      "C:\\Users\\Max\\Documents\\Atenea\\Despacho\\Asignacion-EFT-Convocatoria2\\asignacion\\base.py:135: UserWarning: Existen columnas con espacios adicionales\n",
      "  warnings.warn(\"Existen columnas con espacios adicionales\", category=UserWarning)\n",
      "C:\\Users\\Max\\Documents\\Atenea\\Despacho\\Asignacion-EFT-Convocatoria2\\asignacion\\base.py:170: UserWarning: Existen columnas indispensables con tipado no adecuado\n",
      "  warnings.warn(\"Existen columnas indispensables con tipado no adecuado\", category=UserWarning)\n"
     ]
    }
   ],
   "source": [
    "asignacion_base.validar_datos(NOMBRE_ARCHIVO_HABILITADOS)"
   ]
  },
  {
   "cell_type": "code",
   "execution_count": 7,
   "id": "2aa2eab8-40d5-43a5-a710-93c4662c4600",
   "metadata": {},
   "outputs": [
    {
     "name": "stdout",
     "output_type": "stream",
     "text": [
      "El nombre de las rutas son: dict_keys(['Antiguos', 'Nuevos', 'Cerrados'])\n"
     ]
    }
   ],
   "source": [
    "rutas = asignacion_base.crear_rutas(NOMBRE_ARCHIVO_HABILITADOS)\n",
    "print(f\"El nombre de las rutas son: {rutas.keys()}\")"
   ]
  },
  {
   "cell_type": "markdown",
   "id": "d9675961-b223-40f9-bb93-055fbc9c602a",
   "metadata": {},
   "source": [
    "## **Distribución Recursos por Ruta**"
   ]
  },
  {
   "cell_type": "code",
   "execution_count": 8,
   "id": "57cf3df7-8dc6-4854-89ea-b40db577811e",
   "metadata": {},
   "outputs": [
    {
     "name": "stdout",
     "output_type": "stream",
     "text": [
      "Ruta       |             Recursos\n",
      "-----------------------------------\n",
      "antiguos   |        2.825.099.258\n",
      "nuevos     |        2.118.824.444\n",
      "cerrados   |        2.118.824.444\n"
     ]
    }
   ],
   "source": [
    "utils.imprimir_recursos_por_ruta(RECURSOS_POR_RUTA)"
   ]
  },
  {
   "cell_type": "code",
   "execution_count": 9,
   "id": "c5087834-4aba-4afa-829d-41f87b587890",
   "metadata": {},
   "outputs": [],
   "source": [
    "#Obtener los datos de las rutas\n",
    "df_antiguos = rutas['Antiguos']\n",
    "df_nuevos = rutas['Nuevos']\n",
    "df_cerrados = rutas['Cerrados']"
   ]
  },
  {
   "cell_type": "markdown",
   "id": "bebb92d6-9bb4-4caa-9e39-68a230246963",
   "metadata": {},
   "source": [
    "## **Ruta Antiguos**"
   ]
  },
  {
   "cell_type": "markdown",
   "id": "e02e638f-afce-484b-b5fd-64f7a4f9a7d8",
   "metadata": {},
   "source": [
    "### **Calcular recursos por CNO para Antiguos**"
   ]
  },
  {
   "cell_type": "code",
   "execution_count": 10,
   "id": "9f2da887-d3a3-413e-b026-512b29cade10",
   "metadata": {},
   "outputs": [],
   "source": [
    "asignacion_nuevos_antiguos = AsignacionNuevosAntiguos(df_antiguos, \"antiguos\")"
   ]
  },
  {
   "cell_type": "code",
   "execution_count": 11,
   "id": "8798f7b9-0fd8-4a01-a766-44e31ce52c5f",
   "metadata": {},
   "outputs": [
    {
     "data": {
      "text/html": [
       "<div>\n",
       "<style scoped>\n",
       "    .dataframe tbody tr th:only-of-type {\n",
       "        vertical-align: middle;\n",
       "    }\n",
       "\n",
       "    .dataframe tbody tr th {\n",
       "        vertical-align: top;\n",
       "    }\n",
       "\n",
       "    .dataframe thead th {\n",
       "        text-align: right;\n",
       "    }\n",
       "</style>\n",
       "<table border=\"1\" class=\"dataframe\">\n",
       "  <thead>\n",
       "    <tr style=\"text-align: right;\">\n",
       "      <th></th>\n",
       "      <th>cod_CNO</th>\n",
       "      <th>ipo_ponderado</th>\n",
       "      <th>cuposxcno</th>\n",
       "      <th>ipo</th>\n",
       "      <th>n_programas</th>\n",
       "      <th>participacion_ipo</th>\n",
       "      <th>recursosxcno</th>\n",
       "    </tr>\n",
       "  </thead>\n",
       "  <tbody>\n",
       "    <tr>\n",
       "      <th>0</th>\n",
       "      <td>1231</td>\n",
       "      <td>395.385</td>\n",
       "      <td>819</td>\n",
       "      <td>6.276</td>\n",
       "      <td>13</td>\n",
       "      <td>0.107</td>\n",
       "      <td>300,988,494.768</td>\n",
       "    </tr>\n",
       "    <tr>\n",
       "      <th>1</th>\n",
       "      <td>1345</td>\n",
       "      <td>274.302</td>\n",
       "      <td>440</td>\n",
       "      <td>4.364</td>\n",
       "      <td>7</td>\n",
       "      <td>0.074</td>\n",
       "      <td>208,813,859.517</td>\n",
       "    </tr>\n",
       "    <tr>\n",
       "      <th>2</th>\n",
       "      <td>2242</td>\n",
       "      <td>54.225</td>\n",
       "      <td>100</td>\n",
       "      <td>0.542</td>\n",
       "      <td>1</td>\n",
       "      <td>0.015</td>\n",
       "      <td>41,279,017.582</td>\n",
       "    </tr>\n",
       "    <tr>\n",
       "      <th>3</th>\n",
       "      <td>2281</td>\n",
       "      <td>173.687</td>\n",
       "      <td>261</td>\n",
       "      <td>1.996</td>\n",
       "      <td>3</td>\n",
       "      <td>0.047</td>\n",
       "      <td>132,220,067.279</td>\n",
       "    </tr>\n",
       "    <tr>\n",
       "      <th>4</th>\n",
       "      <td>3311</td>\n",
       "      <td>219.577</td>\n",
       "      <td>460</td>\n",
       "      <td>3.341</td>\n",
       "      <td>7</td>\n",
       "      <td>0.059</td>\n",
       "      <td>167,153,907.530</td>\n",
       "    </tr>\n",
       "    <tr>\n",
       "      <th>5</th>\n",
       "      <td>3315</td>\n",
       "      <td>215.953</td>\n",
       "      <td>360</td>\n",
       "      <td>3.599</td>\n",
       "      <td>6</td>\n",
       "      <td>0.058</td>\n",
       "      <td>164,395,066.498</td>\n",
       "    </tr>\n",
       "    <tr>\n",
       "      <th>6</th>\n",
       "      <td>3317</td>\n",
       "      <td>49.324</td>\n",
       "      <td>100</td>\n",
       "      <td>0.493</td>\n",
       "      <td>1</td>\n",
       "      <td>0.013</td>\n",
       "      <td>37,547,788.497</td>\n",
       "    </tr>\n",
       "    <tr>\n",
       "      <th>7</th>\n",
       "      <td>4222</td>\n",
       "      <td>56.712</td>\n",
       "      <td>120</td>\n",
       "      <td>0.945</td>\n",
       "      <td>2</td>\n",
       "      <td>0.015</td>\n",
       "      <td>43,172,069.624</td>\n",
       "    </tr>\n",
       "    <tr>\n",
       "      <th>8</th>\n",
       "      <td>4311</td>\n",
       "      <td>400.952</td>\n",
       "      <td>840</td>\n",
       "      <td>6.683</td>\n",
       "      <td>14</td>\n",
       "      <td>0.108</td>\n",
       "      <td>305,226,304.644</td>\n",
       "    </tr>\n",
       "    <tr>\n",
       "      <th>9</th>\n",
       "      <td>6322</td>\n",
       "      <td>582.828</td>\n",
       "      <td>1050</td>\n",
       "      <td>5.551</td>\n",
       "      <td>10</td>\n",
       "      <td>0.157</td>\n",
       "      <td>443,680,650.368</td>\n",
       "    </tr>\n",
       "    <tr>\n",
       "      <th>10</th>\n",
       "      <td>6355</td>\n",
       "      <td>268.926</td>\n",
       "      <td>485</td>\n",
       "      <td>4.436</td>\n",
       "      <td>8</td>\n",
       "      <td>0.072</td>\n",
       "      <td>204,721,157.849</td>\n",
       "    </tr>\n",
       "    <tr>\n",
       "      <th>11</th>\n",
       "      <td>6374</td>\n",
       "      <td>301.565</td>\n",
       "      <td>540</td>\n",
       "      <td>4.468</td>\n",
       "      <td>8</td>\n",
       "      <td>0.081</td>\n",
       "      <td>229,567,820.093</td>\n",
       "    </tr>\n",
       "    <tr>\n",
       "      <th>12</th>\n",
       "      <td>6378</td>\n",
       "      <td>179.626</td>\n",
       "      <td>360</td>\n",
       "      <td>2.994</td>\n",
       "      <td>6</td>\n",
       "      <td>0.048</td>\n",
       "      <td>136,741,387.736</td>\n",
       "    </tr>\n",
       "    <tr>\n",
       "      <th>13</th>\n",
       "      <td>8325</td>\n",
       "      <td>210.251</td>\n",
       "      <td>419</td>\n",
       "      <td>2.007</td>\n",
       "      <td>4</td>\n",
       "      <td>0.057</td>\n",
       "      <td>160,054,606.703</td>\n",
       "    </tr>\n",
       "    <tr>\n",
       "      <th>14</th>\n",
       "      <td>8381</td>\n",
       "      <td>137.230</td>\n",
       "      <td>240</td>\n",
       "      <td>2.287</td>\n",
       "      <td>4</td>\n",
       "      <td>0.037</td>\n",
       "      <td>104,466,644.244</td>\n",
       "    </tr>\n",
       "    <tr>\n",
       "      <th>15</th>\n",
       "      <td>8415</td>\n",
       "      <td>127.140</td>\n",
       "      <td>240</td>\n",
       "      <td>2.119</td>\n",
       "      <td>4</td>\n",
       "      <td>0.034</td>\n",
       "      <td>96,785,503.966</td>\n",
       "    </tr>\n",
       "    <tr>\n",
       "      <th>16</th>\n",
       "      <td>8422</td>\n",
       "      <td>63.428</td>\n",
       "      <td>120</td>\n",
       "      <td>1.057</td>\n",
       "      <td>2</td>\n",
       "      <td>0.017</td>\n",
       "      <td>48,284,911.902</td>\n",
       "    </tr>\n",
       "  </tbody>\n",
       "</table>\n",
       "</div>"
      ],
      "text/plain": [
       "    cod_CNO  ipo_ponderado  cuposxcno   ipo  n_programas  participacion_ipo  \\\n",
       "0      1231        395.385        819 6.276           13              0.107   \n",
       "1      1345        274.302        440 4.364            7              0.074   \n",
       "2      2242         54.225        100 0.542            1              0.015   \n",
       "3      2281        173.687        261 1.996            3              0.047   \n",
       "4      3311        219.577        460 3.341            7              0.059   \n",
       "5      3315        215.953        360 3.599            6              0.058   \n",
       "6      3317         49.324        100 0.493            1              0.013   \n",
       "7      4222         56.712        120 0.945            2              0.015   \n",
       "8      4311        400.952        840 6.683           14              0.108   \n",
       "9      6322        582.828       1050 5.551           10              0.157   \n",
       "10     6355        268.926        485 4.436            8              0.072   \n",
       "11     6374        301.565        540 4.468            8              0.081   \n",
       "12     6378        179.626        360 2.994            6              0.048   \n",
       "13     8325        210.251        419 2.007            4              0.057   \n",
       "14     8381        137.230        240 2.287            4              0.037   \n",
       "15     8415        127.140        240 2.119            4              0.034   \n",
       "16     8422         63.428        120 1.057            2              0.017   \n",
       "\n",
       "      recursosxcno  \n",
       "0  300,988,494.768  \n",
       "1  208,813,859.517  \n",
       "2   41,279,017.582  \n",
       "3  132,220,067.279  \n",
       "4  167,153,907.530  \n",
       "5  164,395,066.498  \n",
       "6   37,547,788.497  \n",
       "7   43,172,069.624  \n",
       "8  305,226,304.644  \n",
       "9  443,680,650.368  \n",
       "10 204,721,157.849  \n",
       "11 229,567,820.093  \n",
       "12 136,741,387.736  \n",
       "13 160,054,606.703  \n",
       "14 104,466,644.244  \n",
       "15  96,785,503.966  \n",
       "16  48,284,911.902  "
      ]
     },
     "execution_count": 11,
     "metadata": {},
     "output_type": "execute_result"
    }
   ],
   "source": [
    "asignacion_nuevos_antiguos.recursosxcno"
   ]
  },
  {
   "cell_type": "markdown",
   "id": "b3d92582-b0f9-4c74-9709-a7a85eb0199f",
   "metadata": {},
   "source": [
    "### **Calcular asignación de recursos**"
   ]
  },
  {
   "cell_type": "code",
   "execution_count": 12,
   "id": "1b19905b-6f75-47dd-8ccc-fee08e632eb7",
   "metadata": {},
   "outputs": [],
   "source": [
    "asignacion_antiguos = AsignacionAntiguos(df_antiguos)"
   ]
  },
  {
   "cell_type": "code",
   "execution_count": 13,
   "id": "6df7fe45-757f-4f3c-862b-1f0de3962e13",
   "metadata": {},
   "outputs": [
    {
     "name": "stdout",
     "output_type": "stream",
     "text": [
      "Total recursos por asignar: 2,825,099,258.8\n"
     ]
    }
   ],
   "source": [
    "print(f\"Total recursos por asignar: {asignacion_antiguos.recursos_iniciales:,}\")"
   ]
  },
  {
   "cell_type": "code",
   "execution_count": 14,
   "id": "8c3e27b9-dba6-471f-8783-ea1c16155ac6",
   "metadata": {},
   "outputs": [
    {
     "name": "stdout",
     "output_type": "stream",
     "text": [
      "Recursos que faltaron por ser asignados en la primera etapa: 581,721,844.25\n"
     ]
    }
   ],
   "source": [
    "print(f\"Recursos que faltaron por ser asignados en la primera etapa: {asignacion_antiguos.recursos_disponibles:,.2f}\")"
   ]
  },
  {
   "cell_type": "markdown",
   "id": "963e1a5d-b341-4d2f-92ca-74b9dc0e7bd1",
   "metadata": {},
   "source": [
    "----"
   ]
  },
  {
   "cell_type": "markdown",
   "id": "72bbfba5-1950-4c0d-bab2-c8300b0134f4",
   "metadata": {},
   "source": [
    "## **Ruta Nuevos**"
   ]
  },
  {
   "cell_type": "markdown",
   "id": "6710e387-c2ad-419e-8d4c-b8c9c1935a30",
   "metadata": {},
   "source": [
    "### **Calcular recursos por CNO para Nuevos**"
   ]
  },
  {
   "cell_type": "code",
   "execution_count": 15,
   "id": "5c186139-d1e6-4450-9d31-1cda4c8b62c1",
   "metadata": {},
   "outputs": [],
   "source": [
    "asignacion_nuevos_antiguos = AsignacionNuevosAntiguos(df_nuevos, \"nuevos\")"
   ]
  },
  {
   "cell_type": "code",
   "execution_count": 16,
   "id": "8ab4298e-9a63-4c19-8ec5-180195f8c68f",
   "metadata": {},
   "outputs": [
    {
     "data": {
      "text/html": [
       "<div>\n",
       "<style scoped>\n",
       "    .dataframe tbody tr th:only-of-type {\n",
       "        vertical-align: middle;\n",
       "    }\n",
       "\n",
       "    .dataframe tbody tr th {\n",
       "        vertical-align: top;\n",
       "    }\n",
       "\n",
       "    .dataframe thead th {\n",
       "        text-align: right;\n",
       "    }\n",
       "</style>\n",
       "<table border=\"1\" class=\"dataframe\">\n",
       "  <thead>\n",
       "    <tr style=\"text-align: right;\">\n",
       "      <th></th>\n",
       "      <th>cod_CNO</th>\n",
       "      <th>ipo_ponderado</th>\n",
       "      <th>cuposxcno</th>\n",
       "      <th>ipo</th>\n",
       "      <th>n_programas</th>\n",
       "      <th>participacion_ipo</th>\n",
       "      <th>recursosxcno</th>\n",
       "    </tr>\n",
       "  </thead>\n",
       "  <tbody>\n",
       "    <tr>\n",
       "      <th>0</th>\n",
       "      <td>3311</td>\n",
       "      <td>23.867</td>\n",
       "      <td>50</td>\n",
       "      <td>0.477</td>\n",
       "      <td>1</td>\n",
       "      <td>0.256</td>\n",
       "      <td>543,421,463.831</td>\n",
       "    </tr>\n",
       "    <tr>\n",
       "      <th>1</th>\n",
       "      <td>9351</td>\n",
       "      <td>69.192</td>\n",
       "      <td>120</td>\n",
       "      <td>1.153</td>\n",
       "      <td>2</td>\n",
       "      <td>0.744</td>\n",
       "      <td>1,575,402,980.269</td>\n",
       "    </tr>\n",
       "  </tbody>\n",
       "</table>\n",
       "</div>"
      ],
      "text/plain": [
       "   cod_CNO  ipo_ponderado  cuposxcno   ipo  n_programas  participacion_ipo  \\\n",
       "0     3311         23.867         50 0.477            1              0.256   \n",
       "1     9351         69.192        120 1.153            2              0.744   \n",
       "\n",
       "       recursosxcno  \n",
       "0   543,421,463.831  \n",
       "1 1,575,402,980.269  "
      ]
     },
     "execution_count": 16,
     "metadata": {},
     "output_type": "execute_result"
    }
   ],
   "source": [
    "asignacion_nuevos_antiguos.recursosxcno"
   ]
  },
  {
   "cell_type": "markdown",
   "id": "7f08dc0c-58eb-4fc0-8632-ab7e93649a95",
   "metadata": {},
   "source": [
    "### **Calcular Asignacion de Recursos**"
   ]
  },
  {
   "cell_type": "code",
   "execution_count": 17,
   "id": "5f406794-3f49-4d7f-9a3f-72b9801ca860",
   "metadata": {},
   "outputs": [],
   "source": [
    "asignacion_nuevos = AsignacionNuevos(df_nuevos)"
   ]
  },
  {
   "cell_type": "code",
   "execution_count": 18,
   "id": "1cc6bc01-a169-42b6-a576-eda10b121eca",
   "metadata": {},
   "outputs": [
    {
     "name": "stdout",
     "output_type": "stream",
     "text": [
      "Total recursos por asignar: 2,118,824,444.10\n"
     ]
    }
   ],
   "source": [
    "print(f\"Total recursos por asignar: {asignacion_nuevos.recursos_iniciales:,.2f}\")"
   ]
  },
  {
   "cell_type": "code",
   "execution_count": 19,
   "id": "363e0d92-2376-41c7-9042-75e21d2c5432",
   "metadata": {},
   "outputs": [
    {
     "name": "stdout",
     "output_type": "stream",
     "text": [
      "Recursos que faltaron por ser asignados en la primera etapa: 1,468,861,853.1\n"
     ]
    }
   ],
   "source": [
    "print(f\"Recursos que faltaron por ser asignados en la primera etapa: {asignacion_nuevos.recursos_disponibles:,}\")"
   ]
  },
  {
   "cell_type": "markdown",
   "id": "17da7b9e-ddca-4fac-ad08-d1aa9dabc6b1",
   "metadata": {},
   "source": [
    "----"
   ]
  },
  {
   "cell_type": "markdown",
   "id": "5517a56f-5706-4399-9d35-b1bf773516f9",
   "metadata": {},
   "source": [
    "## **Ruta Cerrados**"
   ]
  },
  {
   "cell_type": "markdown",
   "id": "123a4f29-7e2b-482a-bed1-34fdb31b1a0f",
   "metadata": {},
   "source": [
    "### **Calcular asignacion de recursos**"
   ]
  },
  {
   "cell_type": "code",
   "execution_count": 20,
   "id": "f136b1e2-d16a-4d1e-b7e8-97af7d0500fa",
   "metadata": {},
   "outputs": [],
   "source": [
    "asignacion_cerrados = AsignacionCerrados(df_cerrados)"
   ]
  },
  {
   "cell_type": "code",
   "execution_count": 21,
   "id": "b4980dec-f736-4fb5-bcc8-510a2fb17590",
   "metadata": {},
   "outputs": [
    {
     "name": "stdout",
     "output_type": "stream",
     "text": [
      "Total recursos por asignar: 2,118,824,444.10\n"
     ]
    }
   ],
   "source": [
    "print(f\"Total recursos por asignar: {asignacion_cerrados.recursos_iniciales:,.2f}\")"
   ]
  },
  {
   "cell_type": "code",
   "execution_count": 22,
   "id": "55b6fcba-62ba-43cd-a285-8a071cc87f84",
   "metadata": {},
   "outputs": [
    {
     "name": "stdout",
     "output_type": "stream",
     "text": [
      "Recursos que faltaron por ser asignados en la primera etapa: 62,114,398.03649971\n"
     ]
    }
   ],
   "source": [
    "print(f\"Recursos que faltaron por ser asignados en la primera etapa: {asignacion_cerrados.recursos_disponibles:,}\")"
   ]
  },
  {
   "cell_type": "markdown",
   "id": "ba13da23-f325-45a0-8933-918c6cd8ecb0",
   "metadata": {},
   "source": [
    "-----"
   ]
  },
  {
   "cell_type": "markdown",
   "id": "e4b9210c-3ff5-4b96-a9f0-3f2f53bd284b",
   "metadata": {},
   "source": [
    "# **Dispersar Recursos remanentes** "
   ]
  },
  {
   "cell_type": "markdown",
   "id": "83c1bcd9-5b4a-46b6-a527-ddb643350332",
   "metadata": {},
   "source": [
    "### **Calcular bolsa comun**"
   ]
  },
  {
   "cell_type": "code",
   "execution_count": 23,
   "id": "d82397e0-ab32-4869-9c98-434d53217d87",
   "metadata": {},
   "outputs": [
    {
     "name": "stdout",
     "output_type": "stream",
     "text": [
      "Recursos en la bolsa comun: 2,112,698,095.3827994\n"
     ]
    }
   ],
   "source": [
    "bolsa_comun = asignacion_cerrados.recursos_disponibles + asignacion_nuevos.recursos_disponibles + asignacion_antiguos.recursos_disponibles\n",
    "print(f\"Recursos en la bolsa comun: {bolsa_comun:,}\")"
   ]
  },
  {
   "cell_type": "markdown",
   "id": "1eb23559-9a00-439a-9629-ef3bba39c782",
   "metadata": {},
   "source": [
    "**El orden de prioridad de la asignacion es:**\n",
    "1. Cerrados\n",
    "2. Nuevos\n",
    "3. Antiguos\n",
    "\n",
    "La asignacion de los recursos sigue el mismo mecanismo de cada ruta"
   ]
  },
  {
   "cell_type": "markdown",
   "id": "3189ff74-ec5a-4eff-bbb9-187ac5739328",
   "metadata": {},
   "source": [
    "## **Asignar recursos a programas Cerrados**"
   ]
  },
  {
   "cell_type": "code",
   "execution_count": 24,
   "id": "ddb3fa04-18c7-4fb8-9830-72d07a7d49ca",
   "metadata": {},
   "outputs": [],
   "source": [
    "#Seleccionamos los programas que aún tienen cupos para ofrecer\n",
    "programas_remanentes_cerrados = asignacion_cerrados.programas_remanente\n",
    "\n",
    "#limpiamos las columnas que se habian calculado pero que no van a ser necesarias\n",
    "programas_remanentes_cerrados = programas_remanentes_cerrados.drop(\n",
    "    columns = ['numero_cupos_ofertar','recurso_asignado','cupos_asignados']\n",
    ").rename(columns = {\n",
    "    \"cupos_sobrantes\":\"numero_cupos_ofertar\"\n",
    "})\n",
    "\n",
    "#Instanciamos un nuevo objeto para la Asignacion de Antiguos\n",
    "asignacion_cerrados_remanente = AsignacionNuevos(programas_remanentes_cerrados, recursos_iniciales = bolsa_comun)"
   ]
  },
  {
   "cell_type": "code",
   "execution_count": 25,
   "id": "22fe0af1-e6cc-475a-8b77-a440f05b6c66",
   "metadata": {},
   "outputs": [
    {
     "name": "stdout",
     "output_type": "stream",
     "text": [
      "Recursos en la bolsa comun: 1,219,939,734.6927993\n"
     ]
    }
   ],
   "source": [
    "#Actualizar bolsa comun \n",
    "bolsa_comun = asignacion_cerrados_remanente.recursos_disponibles\n",
    "print(f\"Recursos en la bolsa comun: {bolsa_comun:,}\")"
   ]
  },
  {
   "cell_type": "markdown",
   "id": "27a50787-b000-4c7a-ae36-3568647f9a61",
   "metadata": {},
   "source": [
    "### **Resumen asignacion por iteracion**"
   ]
  },
  {
   "cell_type": "code",
   "execution_count": 26,
   "id": "5eee02f8-5a96-4df9-be50-0eda45e6fca7",
   "metadata": {},
   "outputs": [],
   "source": [
    "df2_columns = [\n",
    "    'nombre_institucion',\n",
    "    'ocupacion',\n",
    "    'codigo_programa',\n",
    "    'cupos_asignados',\n",
    "    'recurso_asignado',\n",
    "    'cupos_sobrantes'\n",
    "]\n",
    "\n",
    "df1 = asignacion_cerrados.primera_asignacion\n",
    "df2 = asignacion_cerrados_remanente.primera_asignacion\n",
    "\n",
    "asignacion_completa_cerrados = utils.merge_without_duplicates(\n",
    "    df1, df2, df2_columns=df2_columns,\n",
    "    merge_on=['nombre_institucion','ocupacion', 'codigo_programa']\n",
    ")"
   ]
  },
  {
   "cell_type": "markdown",
   "id": "cadee2c4-f006-479c-b029-20b6698bea49",
   "metadata": {},
   "source": [
    "---"
   ]
  },
  {
   "cell_type": "markdown",
   "id": "01447e24-fc76-49d8-8605-49447fdac615",
   "metadata": {},
   "source": [
    "## **Asignar recursos a programas Nuevos**"
   ]
  },
  {
   "cell_type": "code",
   "execution_count": 27,
   "id": "a3279e34-2a28-416a-91bd-c1dc16a5f430",
   "metadata": {},
   "outputs": [],
   "source": [
    "#Seleccionamos los programas que aún tienen cupos para ofrecer\n",
    "programas_remanentes_nuevos = asignacion_nuevos.programas_remanente\n",
    "\n",
    "#limpiamos las columnas que se habian calculado pero que no van a ser necesarias\n",
    "programas_remanentes_nuevos = programas_remanentes_nuevos.drop(\n",
    "    columns = ['recursosxcno','numero_cupos_ofertar','recurso_asignado','cupos_asignados']\n",
    ").rename(columns = {\n",
    "    \"cupos_sobrantes\":\"numero_cupos_ofertar\"\n",
    "})\n",
    "\n",
    "#Instanciamos un nuevo objeto para la Asignacion de Antiguos\n",
    "asignacion_nuevos_remanente = AsignacionNuevos(programas_remanentes_nuevos, recursos_iniciales = bolsa_comun)"
   ]
  },
  {
   "cell_type": "code",
   "execution_count": 28,
   "id": "c5c07a8d-f9dd-423a-971c-f094566e70fd",
   "metadata": {},
   "outputs": [
    {
     "name": "stdout",
     "output_type": "stream",
     "text": [
      "Recursos en la bolsa comun: 1,219,939,734.6927993\n"
     ]
    }
   ],
   "source": [
    "#Actualizar bolsa comun \n",
    "bolsa_comun = asignacion_nuevos_remanente.recursos_disponibles\n",
    "print(f\"Recursos en la bolsa comun: {bolsa_comun:,}\")"
   ]
  },
  {
   "cell_type": "markdown",
   "id": "84dcf5eb-c7da-44fd-a3d2-ee04089f7136",
   "metadata": {},
   "source": [
    "### **Resumen asignacion por iteracion**"
   ]
  },
  {
   "cell_type": "code",
   "execution_count": 29,
   "id": "7d9671cd-2596-4e91-bcad-04361937bc30",
   "metadata": {},
   "outputs": [],
   "source": [
    "df2_columns = [\n",
    "    'nombre_institucion',\n",
    "    'ocupacion',\n",
    "    'codigo_programa',\n",
    "    'recursosxcno',\n",
    "    'cupos_asignados',\n",
    "    'recurso_asignado',\n",
    "    'cupos_sobrantes'\n",
    "]\n",
    "\n",
    "df1 = asignacion_nuevos.primera_asignacion\n",
    "df2 = asignacion_nuevos_remanente.primera_asignacion\n",
    "\n",
    "asignacion_completa_nuevos = utils.merge_without_duplicates(\n",
    "    df1, df2, df2_columns=df2_columns,\n",
    "    merge_on=['nombre_institucion','ocupacion', 'codigo_programa']\n",
    ")"
   ]
  },
  {
   "cell_type": "markdown",
   "id": "6593974c-2ece-4f4d-bf24-baa9e552c664",
   "metadata": {},
   "source": [
    "---"
   ]
  },
  {
   "cell_type": "markdown",
   "id": "c545a299-f9f4-4988-a63e-3e2307ec1500",
   "metadata": {},
   "source": [
    "## **Asignar recursos a programas Antiguos**"
   ]
  },
  {
   "cell_type": "code",
   "execution_count": 30,
   "id": "a35b6746-f4c7-4eb5-b4e5-666d6eedc45d",
   "metadata": {},
   "outputs": [],
   "source": [
    "#Seleccionamos los programas que aún tienen cupos para ofrecer\n",
    "programas_remanentes_antiguos = asignacion_antiguos.programas_remanente.copy()\n",
    "\n",
    "#limpiamos las columnas que se habian calculado pero que no van a ser necesarias\n",
    "programas_remanentes_antiguos = programas_remanentes_antiguos.drop(\n",
    "    columns = ['recursosxcno','numero_cupos_ofertar','recurso_asignado','cupos_asignados']\n",
    ").rename(columns = {\n",
    "    \"cupos_sobrantes\":\"numero_cupos_ofertar\"\n",
    "})\n",
    "\n",
    "#Instanciamos un nuevo objeto para la Asignacion de Antiguos\n",
    "asignacion_antiguos_remanente = AsignacionAntiguos(programas_remanentes_antiguos, recursos_iniciales = bolsa_comun)"
   ]
  },
  {
   "cell_type": "code",
   "execution_count": 31,
   "id": "a813ed29-5018-470f-9cc1-c70e775777be",
   "metadata": {},
   "outputs": [
    {
     "name": "stdout",
     "output_type": "stream",
     "text": [
      "Recursos en la bolsa comun: 546,499,398.0912993\n"
     ]
    }
   ],
   "source": [
    "#Actualizar bolsa comun \n",
    "bolsa_comun = asignacion_antiguos_remanente.recursos_disponibles\n",
    "print(f\"Recursos en la bolsa comun: {bolsa_comun:,}\")"
   ]
  },
  {
   "cell_type": "markdown",
   "id": "2d7dc344-859e-44e5-a395-4afe738e8802",
   "metadata": {},
   "source": [
    "### **Resumen asignacion por iteracion**"
   ]
  },
  {
   "cell_type": "code",
   "execution_count": 32,
   "id": "62cbecaf-954a-4cb9-800d-820ea5a1657d",
   "metadata": {},
   "outputs": [],
   "source": [
    "df2_columns = [\n",
    "    'nombre_institucion',\n",
    "    'ocupacion',\n",
    "    'codigo_programa',\n",
    "    'recursosxcno',\n",
    "    'cupos_asignados',\n",
    "    'recurso_asignado',\n",
    "    'cupos_sobrantes'\n",
    "]\n",
    "\n",
    "df1 = asignacion_antiguos.primera_asignacion\n",
    "df2 = asignacion_antiguos_remanente.primera_asignacion\n",
    "\n",
    "asignacion_completa_antiguos = utils.merge_without_duplicates(\n",
    "    df1, df2, df2_columns=df2_columns,\n",
    "    merge_on=['nombre_institucion','ocupacion', 'codigo_programa']\n",
    ")"
   ]
  },
  {
   "cell_type": "markdown",
   "id": "7c1537f0-b84a-44b9-827c-15a685dc6b01",
   "metadata": {},
   "source": [
    "---"
   ]
  },
  {
   "cell_type": "markdown",
   "id": "98706808-892d-40eb-91cc-e8c67c2b8512",
   "metadata": {},
   "source": [
    "## **Exportar Resultados**"
   ]
  },
  {
   "cell_type": "code",
   "execution_count": 33,
   "id": "ff976255-4a4d-4048-b07d-96fd77149da9",
   "metadata": {},
   "outputs": [],
   "source": [
    "import pandas as pd\n",
    "\n",
    "dataframes = {\n",
    "    \"antiguos\": asignacion_completa_antiguos,\n",
    "    \"nuevos\": asignacion_completa_nuevos,\n",
    "    \"cerrados\": asignacion_completa_cerrados\n",
    "}\n",
    "\n",
    "utils.export_to_excel(dataframes)\n"
   ]
  }
 ],
 "metadata": {
  "kernelspec": {
   "display_name": "Python 3 (ipykernel)",
   "language": "python",
   "name": "python3"
  },
  "language_info": {
   "codemirror_mode": {
    "name": "ipython",
    "version": 3
   },
   "file_extension": ".py",
   "mimetype": "text/x-python",
   "name": "python",
   "nbconvert_exporter": "python",
   "pygments_lexer": "ipython3",
   "version": "3.13.5"
  }
 },
 "nbformat": 4,
 "nbformat_minor": 5
}
