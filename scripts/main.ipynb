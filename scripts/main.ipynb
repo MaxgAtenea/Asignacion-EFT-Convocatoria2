{
 "cells": [
  {
   "cell_type": "markdown",
   "id": "105b55ad-ea62-4af6-ab0e-cbc7d9f5e1dc",
   "metadata": {},
   "source": [
    "## **Fijar el absolute path un directorio arriba**"
   ]
  },
  {
   "cell_type": "code",
   "execution_count": 1,
   "id": "f325d07d-db01-49cb-98e8-16566ec02c8d",
   "metadata": {},
   "outputs": [],
   "source": [
    "import sys\n",
    "import os\n",
    "# Add project root to Python path\n",
    "project_root = os.path.abspath(os.path.join(os.getcwd(), \"..\"))\n",
    "if project_root not in sys.path:\n",
    "    sys.path.append(project_root)"
   ]
  },
  {
   "cell_type": "code",
   "execution_count": 2,
   "id": "7bd07de8-7a09-4887-ba04-eaf3548832ad",
   "metadata": {},
   "outputs": [],
   "source": [
    "import pandas as pd\n",
    "import asignacion.utils as utils\n",
    "\n",
    "from asignacion.base import AsignacionBase\n",
    "from asignacion.nuevosyantiguos import AsignacionNuevosAntiguos\n",
    "from asignacion.antiguos import AsignacionAntiguos\n",
    "from asignacion.nuevos import AsignacionNuevos\n",
    "from asignacion.cerrados import AsignacionCerrados\n",
    "from asignacion.constants import RECURSOS_POR_RUTA"
   ]
  },
  {
   "cell_type": "markdown",
   "id": "fe0f2a5a-ce92-4f70-86a5-1519b31aa025",
   "metadata": {},
   "source": [
    "-----"
   ]
  },
  {
   "cell_type": "code",
   "execution_count": 3,
   "id": "cb985c57-1a31-416c-bdd2-973f47485bd3",
   "metadata": {},
   "outputs": [],
   "source": [
    "#Display options\n",
    "# Set pandas display format globally\n",
    "pd.options.display.float_format = \"{:,.3f}\".format"
   ]
  },
  {
   "cell_type": "markdown",
   "id": "d1dd79e4-044e-4644-a746-ef7dc1f7d6f1",
   "metadata": {},
   "source": [
    "# **Constantes**"
   ]
  },
  {
   "cell_type": "code",
   "execution_count": 4,
   "id": "6e441eb2-a713-42c7-b57b-a9618522d3ca",
   "metadata": {},
   "outputs": [],
   "source": [
    "NOMBRE_ARCHIVO_HABILITADOS = \"Habilitados final 26052025.xlsx\"\n",
    "NOMBRE_ARCHIVO_COMPLEMENTARIO = \"Base final - Oferta Activa.pkl\""
   ]
  },
  {
   "cell_type": "markdown",
   "id": "53ada2db-e31a-483e-9bb9-f59459813663",
   "metadata": {},
   "source": [
    "# **Ejecución**"
   ]
  },
  {
   "cell_type": "code",
   "execution_count": 5,
   "id": "f36282ed-ca76-4884-9fe0-e782f71f3008",
   "metadata": {},
   "outputs": [],
   "source": [
    "asignacion_base = AsignacionBase()"
   ]
  },
  {
   "cell_type": "code",
   "execution_count": 6,
   "id": "c1e5043a-9de2-46a3-afa1-8268f3ba8d68",
   "metadata": {},
   "outputs": [
    {
     "name": "stdout",
     "output_type": "stream",
     "text": [
      "Los errores quedaron logeados en: ..\\output\\logs\\validacion.log\n"
     ]
    },
    {
     "name": "stderr",
     "output_type": "stream",
     "text": [
      "C:\\Users\\Max\\Documents\\Atenea\\Despacho\\Asignacion-EFT-Convocatoria2\\asignacion\\base.py:135: UserWarning: Existen columnas con espacios adicionales\n",
      "  warnings.warn(\"Existen columnas con espacios adicionales\", category=UserWarning)\n",
      "C:\\Users\\Max\\Documents\\Atenea\\Despacho\\Asignacion-EFT-Convocatoria2\\asignacion\\base.py:159: UserWarning: Existen columnas indispensables con valores nulos\n",
      "  warnings.warn(\"Existen columnas indispensables con valores nulos\", category=UserWarning)\n",
      "C:\\Users\\Max\\Documents\\Atenea\\Despacho\\Asignacion-EFT-Convocatoria2\\asignacion\\base.py:170: UserWarning: Existen columnas indispensables con tipado no adecuado\n",
      "  warnings.warn(\"Existen columnas indispensables con tipado no adecuado\", category=UserWarning)\n"
     ]
    }
   ],
   "source": [
    "asignacion_base.validar_datos(NOMBRE_ARCHIVO_HABILITADOS)"
   ]
  },
  {
   "cell_type": "code",
   "execution_count": 7,
   "id": "2aa2eab8-40d5-43a5-a710-93c4662c4600",
   "metadata": {},
   "outputs": [
    {
     "name": "stdout",
     "output_type": "stream",
     "text": [
      "La llave es: codigo_programa. Ver diccionario para mayor detalle.\n",
      "Programas que cruzaron: 39\n",
      "Programas que NO cruzaron: 6\n"
     ]
    }
   ],
   "source": [
    "rutas = asignacion_base.crear_rutas(NOMBRE_ARCHIVO_HABILITADOS, NOMBRE_ARCHIVO_COMPLEMENTARIO)"
   ]
  },
  {
   "cell_type": "markdown",
   "id": "d9675961-b223-40f9-bb93-055fbc9c602a",
   "metadata": {},
   "source": [
    "## **Distribución Recursos por Ruta**"
   ]
  },
  {
   "cell_type": "code",
   "execution_count": 8,
   "id": "57cf3df7-8dc6-4854-89ea-b40db577811e",
   "metadata": {},
   "outputs": [
    {
     "name": "stdout",
     "output_type": "stream",
     "text": [
      "Ruta       |             Recursos\n",
      "-----------------------------------\n",
      "antiguos   |        2.825.099.258\n",
      "nuevos     |        2.118.824.444\n",
      "cerrados   |        2.118.824.444\n"
     ]
    }
   ],
   "source": [
    "utils.imprimir_recursos_por_ruta(RECURSOS_POR_RUTA)"
   ]
  },
  {
   "cell_type": "code",
   "execution_count": 9,
   "id": "c5087834-4aba-4afa-829d-41f87b587890",
   "metadata": {},
   "outputs": [],
   "source": [
    "#Obtener los datos de la ruta antigua\n",
    "df_antiguos = rutas['Antiguos']\n",
    "df_nuevos = rutas['Nuevos']\n",
    "df_cerrados = rutas['Grupos cerrados']"
   ]
  },
  {
   "cell_type": "markdown",
   "id": "bebb92d6-9bb4-4caa-9e39-68a230246963",
   "metadata": {},
   "source": [
    "## **Ruta Antiguos**"
   ]
  },
  {
   "cell_type": "markdown",
   "id": "e02e638f-afce-484b-b5fd-64f7a4f9a7d8",
   "metadata": {},
   "source": [
    "### **Calcular recursos por CNO para Antiguos**"
   ]
  },
  {
   "cell_type": "code",
   "execution_count": 10,
   "id": "9f2da887-d3a3-413e-b026-512b29cade10",
   "metadata": {},
   "outputs": [],
   "source": [
    "asignacion_nuevos_antiguos = AsignacionNuevosAntiguos(df_antiguos, \"antiguos\")"
   ]
  },
  {
   "cell_type": "code",
   "execution_count": 11,
   "id": "8798f7b9-0fd8-4a01-a766-44e31ce52c5f",
   "metadata": {},
   "outputs": [
    {
     "data": {
      "text/html": [
       "<div>\n",
       "<style scoped>\n",
       "    .dataframe tbody tr th:only-of-type {\n",
       "        vertical-align: middle;\n",
       "    }\n",
       "\n",
       "    .dataframe tbody tr th {\n",
       "        vertical-align: top;\n",
       "    }\n",
       "\n",
       "    .dataframe thead th {\n",
       "        text-align: right;\n",
       "    }\n",
       "</style>\n",
       "<table border=\"1\" class=\"dataframe\">\n",
       "  <thead>\n",
       "    <tr style=\"text-align: right;\">\n",
       "      <th></th>\n",
       "      <th>cod_CNO</th>\n",
       "      <th>ipo_ponderado</th>\n",
       "      <th>cuposxcno</th>\n",
       "      <th>ipo</th>\n",
       "      <th>n_programas</th>\n",
       "      <th>participacion_ipo</th>\n",
       "      <th>recursosxcno</th>\n",
       "    </tr>\n",
       "  </thead>\n",
       "  <tbody>\n",
       "    <tr>\n",
       "      <th>0</th>\n",
       "      <td>1231</td>\n",
       "      <td>96.553</td>\n",
       "      <td>200</td>\n",
       "      <td>0.966</td>\n",
       "      <td>2</td>\n",
       "      <td>0.081</td>\n",
       "      <td>230,222,250.192</td>\n",
       "    </tr>\n",
       "    <tr>\n",
       "      <th>1</th>\n",
       "      <td>1345</td>\n",
       "      <td>99.746</td>\n",
       "      <td>160</td>\n",
       "      <td>1.247</td>\n",
       "      <td>2</td>\n",
       "      <td>0.084</td>\n",
       "      <td>237,836,186.175</td>\n",
       "    </tr>\n",
       "    <tr>\n",
       "      <th>2</th>\n",
       "      <td>2242</td>\n",
       "      <td>40.669</td>\n",
       "      <td>75</td>\n",
       "      <td>0.542</td>\n",
       "      <td>1</td>\n",
       "      <td>0.034</td>\n",
       "      <td>96,971,010.570</td>\n",
       "    </tr>\n",
       "    <tr>\n",
       "      <th>3</th>\n",
       "      <td>2281</td>\n",
       "      <td>55.234</td>\n",
       "      <td>83</td>\n",
       "      <td>0.665</td>\n",
       "      <td>1</td>\n",
       "      <td>0.047</td>\n",
       "      <td>131,700,148.380</td>\n",
       "    </tr>\n",
       "    <tr>\n",
       "      <th>4</th>\n",
       "      <td>3311</td>\n",
       "      <td>47.734</td>\n",
       "      <td>100</td>\n",
       "      <td>0.477</td>\n",
       "      <td>1</td>\n",
       "      <td>0.040</td>\n",
       "      <td>113,817,752.930</td>\n",
       "    </tr>\n",
       "    <tr>\n",
       "      <th>5</th>\n",
       "      <td>3315</td>\n",
       "      <td>95.979</td>\n",
       "      <td>160</td>\n",
       "      <td>1.200</td>\n",
       "      <td>2</td>\n",
       "      <td>0.081</td>\n",
       "      <td>228,853,504.614</td>\n",
       "    </tr>\n",
       "    <tr>\n",
       "      <th>6</th>\n",
       "      <td>4311</td>\n",
       "      <td>143.197</td>\n",
       "      <td>300</td>\n",
       "      <td>1.432</td>\n",
       "      <td>3</td>\n",
       "      <td>0.121</td>\n",
       "      <td>341,440,656.523</td>\n",
       "    </tr>\n",
       "    <tr>\n",
       "      <th>7</th>\n",
       "      <td>5223</td>\n",
       "      <td>15.083</td>\n",
       "      <td>30</td>\n",
       "      <td>0.503</td>\n",
       "      <td>1</td>\n",
       "      <td>0.013</td>\n",
       "      <td>35,964,177.517</td>\n",
       "    </tr>\n",
       "    <tr>\n",
       "      <th>8</th>\n",
       "      <td>6234</td>\n",
       "      <td>32.624</td>\n",
       "      <td>60</td>\n",
       "      <td>0.544</td>\n",
       "      <td>1</td>\n",
       "      <td>0.028</td>\n",
       "      <td>77,788,312.407</td>\n",
       "    </tr>\n",
       "    <tr>\n",
       "      <th>9</th>\n",
       "      <td>6322</td>\n",
       "      <td>158.196</td>\n",
       "      <td>285</td>\n",
       "      <td>1.110</td>\n",
       "      <td>2</td>\n",
       "      <td>0.134</td>\n",
       "      <td>377,204,925.607</td>\n",
       "    </tr>\n",
       "    <tr>\n",
       "      <th>10</th>\n",
       "      <td>6355</td>\n",
       "      <td>194.070</td>\n",
       "      <td>350</td>\n",
       "      <td>2.218</td>\n",
       "      <td>4</td>\n",
       "      <td>0.164</td>\n",
       "      <td>462,743,514.087</td>\n",
       "    </tr>\n",
       "    <tr>\n",
       "      <th>11</th>\n",
       "      <td>8325</td>\n",
       "      <td>205.735</td>\n",
       "      <td>410</td>\n",
       "      <td>2.509</td>\n",
       "      <td>5</td>\n",
       "      <td>0.174</td>\n",
       "      <td>490,556,819.797</td>\n",
       "    </tr>\n",
       "  </tbody>\n",
       "</table>\n",
       "</div>"
      ],
      "text/plain": [
       "    cod_CNO  ipo_ponderado  cuposxcno   ipo  n_programas  participacion_ipo  \\\n",
       "0      1231         96.553        200 0.966            2              0.081   \n",
       "1      1345         99.746        160 1.247            2              0.084   \n",
       "2      2242         40.669         75 0.542            1              0.034   \n",
       "3      2281         55.234         83 0.665            1              0.047   \n",
       "4      3311         47.734        100 0.477            1              0.040   \n",
       "5      3315         95.979        160 1.200            2              0.081   \n",
       "6      4311        143.197        300 1.432            3              0.121   \n",
       "7      5223         15.083         30 0.503            1              0.013   \n",
       "8      6234         32.624         60 0.544            1              0.028   \n",
       "9      6322        158.196        285 1.110            2              0.134   \n",
       "10     6355        194.070        350 2.218            4              0.164   \n",
       "11     8325        205.735        410 2.509            5              0.174   \n",
       "\n",
       "      recursosxcno  \n",
       "0  230,222,250.192  \n",
       "1  237,836,186.175  \n",
       "2   96,971,010.570  \n",
       "3  131,700,148.380  \n",
       "4  113,817,752.930  \n",
       "5  228,853,504.614  \n",
       "6  341,440,656.523  \n",
       "7   35,964,177.517  \n",
       "8   77,788,312.407  \n",
       "9  377,204,925.607  \n",
       "10 462,743,514.087  \n",
       "11 490,556,819.797  "
      ]
     },
     "execution_count": 11,
     "metadata": {},
     "output_type": "execute_result"
    }
   ],
   "source": [
    "asignacion_nuevos_antiguos.recursosxcno"
   ]
  },
  {
   "cell_type": "markdown",
   "id": "b3d92582-b0f9-4c74-9709-a7a85eb0199f",
   "metadata": {},
   "source": [
    "### **Calcular asignación de recursos**"
   ]
  },
  {
   "cell_type": "code",
   "execution_count": 12,
   "id": "1b19905b-6f75-47dd-8ccc-fee08e632eb7",
   "metadata": {},
   "outputs": [],
   "source": [
    "asignacion_antiguos = AsignacionAntiguos(df_antiguos)"
   ]
  },
  {
   "cell_type": "code",
   "execution_count": 13,
   "id": "8c3e27b9-dba6-471f-8783-ea1c16155ac6",
   "metadata": {},
   "outputs": [
    {
     "name": "stdout",
     "output_type": "stream",
     "text": [
      "Recursos que faltaron por ser asignados en la primera etapa: 31,860,867.138705254\n"
     ]
    }
   ],
   "source": [
    "print(f\"Recursos que faltaron por ser asignados en la primera etapa: {asignacion_antiguos.recursos_disponibles:,}\")"
   ]
  },
  {
   "cell_type": "markdown",
   "id": "963e1a5d-b341-4d2f-92ca-74b9dc0e7bd1",
   "metadata": {},
   "source": [
    "----"
   ]
  },
  {
   "cell_type": "markdown",
   "id": "72bbfba5-1950-4c0d-bab2-c8300b0134f4",
   "metadata": {},
   "source": [
    "## **Ruta Nuevos**"
   ]
  },
  {
   "cell_type": "markdown",
   "id": "6710e387-c2ad-419e-8d4c-b8c9c1935a30",
   "metadata": {},
   "source": [
    "### **Calcular recursos por CNO para Nuevos**"
   ]
  },
  {
   "cell_type": "code",
   "execution_count": 14,
   "id": "5c186139-d1e6-4450-9d31-1cda4c8b62c1",
   "metadata": {},
   "outputs": [],
   "source": [
    "asignacion_nuevos_antiguos = AsignacionNuevosAntiguos(df_nuevos, \"nuevos\")"
   ]
  },
  {
   "cell_type": "code",
   "execution_count": 15,
   "id": "8ab4298e-9a63-4c19-8ec5-180195f8c68f",
   "metadata": {},
   "outputs": [
    {
     "data": {
      "text/html": [
       "<div>\n",
       "<style scoped>\n",
       "    .dataframe tbody tr th:only-of-type {\n",
       "        vertical-align: middle;\n",
       "    }\n",
       "\n",
       "    .dataframe tbody tr th {\n",
       "        vertical-align: top;\n",
       "    }\n",
       "\n",
       "    .dataframe thead th {\n",
       "        text-align: right;\n",
       "    }\n",
       "</style>\n",
       "<table border=\"1\" class=\"dataframe\">\n",
       "  <thead>\n",
       "    <tr style=\"text-align: right;\">\n",
       "      <th></th>\n",
       "      <th>cod_CNO</th>\n",
       "      <th>ipo_ponderado</th>\n",
       "      <th>cuposxcno</th>\n",
       "      <th>ipo</th>\n",
       "      <th>n_programas</th>\n",
       "      <th>participacion_ipo</th>\n",
       "      <th>recursosxcno</th>\n",
       "    </tr>\n",
       "  </thead>\n",
       "  <tbody>\n",
       "    <tr>\n",
       "      <th>0</th>\n",
       "      <td>2281</td>\n",
       "      <td>33.273</td>\n",
       "      <td>50</td>\n",
       "      <td>0.665</td>\n",
       "      <td>1</td>\n",
       "      <td>0.170</td>\n",
       "      <td>360,780,154.858</td>\n",
       "    </tr>\n",
       "    <tr>\n",
       "      <th>1</th>\n",
       "      <td>6233</td>\n",
       "      <td>13.078</td>\n",
       "      <td>25</td>\n",
       "      <td>0.523</td>\n",
       "      <td>1</td>\n",
       "      <td>0.067</td>\n",
       "      <td>141,801,501.765</td>\n",
       "    </tr>\n",
       "    <tr>\n",
       "      <th>2</th>\n",
       "      <td>6374</td>\n",
       "      <td>13.961</td>\n",
       "      <td>25</td>\n",
       "      <td>0.558</td>\n",
       "      <td>1</td>\n",
       "      <td>0.071</td>\n",
       "      <td>151,381,578.345</td>\n",
       "    </tr>\n",
       "    <tr>\n",
       "      <th>3</th>\n",
       "      <td>6642</td>\n",
       "      <td>13.656</td>\n",
       "      <td>25</td>\n",
       "      <td>0.546</td>\n",
       "      <td>1</td>\n",
       "      <td>0.070</td>\n",
       "      <td>148,069,537.636</td>\n",
       "    </tr>\n",
       "  </tbody>\n",
       "</table>\n",
       "</div>"
      ],
      "text/plain": [
       "   cod_CNO  ipo_ponderado  cuposxcno   ipo  n_programas  participacion_ipo  \\\n",
       "0     2281         33.273         50 0.665            1              0.170   \n",
       "1     6233         13.078         25 0.523            1              0.067   \n",
       "2     6374         13.961         25 0.558            1              0.071   \n",
       "3     6642         13.656         25 0.546            1              0.070   \n",
       "\n",
       "     recursosxcno  \n",
       "0 360,780,154.858  \n",
       "1 141,801,501.765  \n",
       "2 151,381,578.345  \n",
       "3 148,069,537.636  "
      ]
     },
     "execution_count": 15,
     "metadata": {},
     "output_type": "execute_result"
    }
   ],
   "source": [
    "asignacion_nuevos_antiguos.recursosxcno"
   ]
  },
  {
   "cell_type": "markdown",
   "id": "7f08dc0c-58eb-4fc0-8632-ab7e93649a95",
   "metadata": {},
   "source": [
    "### **Calcular Asignacion de Recursos**"
   ]
  },
  {
   "cell_type": "code",
   "execution_count": 16,
   "id": "5f406794-3f49-4d7f-9a3f-72b9801ca860",
   "metadata": {},
   "outputs": [],
   "source": [
    "asignacion_nuevos = AsignacionNuevos(df_nuevos)"
   ]
  },
  {
   "cell_type": "code",
   "execution_count": 17,
   "id": "87f49b2d-c8c7-4aba-bfec-8045e8869d62",
   "metadata": {},
   "outputs": [
    {
     "data": {
      "text/html": [
       "<div>\n",
       "<style scoped>\n",
       "    .dataframe tbody tr th:only-of-type {\n",
       "        vertical-align: middle;\n",
       "    }\n",
       "\n",
       "    .dataframe tbody tr th {\n",
       "        vertical-align: top;\n",
       "    }\n",
       "\n",
       "    .dataframe thead th {\n",
       "        text-align: right;\n",
       "    }\n",
       "</style>\n",
       "<table border=\"1\" class=\"dataframe\">\n",
       "  <thead>\n",
       "    <tr style=\"text-align: right;\">\n",
       "      <th></th>\n",
       "      <th>ruta_habilitada</th>\n",
       "      <th>nombre_institucion</th>\n",
       "      <th>ocupacion</th>\n",
       "      <th>nombre_programa</th>\n",
       "      <th>codigo_programa</th>\n",
       "      <th>ipo</th>\n",
       "      <th>Puntaje (nuevos y cerrados)</th>\n",
       "      <th>Meta de vinculación</th>\n",
       "      <th>valor_programa_indexado</th>\n",
       "      <th>numero_cupos_ofertar</th>\n",
       "      <th>...</th>\n",
       "      <th>cod_CNO2d</th>\n",
       "      <th>cod_CNO1d</th>\n",
       "      <th>_ocupacion</th>\n",
       "      <th>isoeft_4d</th>\n",
       "      <th>codigo_programa</th>\n",
       "      <th>ipo_ponderado</th>\n",
       "      <th>recursosxcno</th>\n",
       "      <th>cupos_asignados_2E</th>\n",
       "      <th>recurso_asignado_2E</th>\n",
       "      <th>cupos_sobrantes_2E</th>\n",
       "    </tr>\n",
       "  </thead>\n",
       "  <tbody>\n",
       "    <tr>\n",
       "      <th>0</th>\n",
       "      <td>Nuevos</td>\n",
       "      <td>CORPORACIÓN DE EDUCACIÓN TECNOLÓGICA COLSUBSID...</td>\n",
       "      <td>Técnicos en tecnologías de la información</td>\n",
       "      <td>Técnico Laboral por competencias en Codificaci...</td>\n",
       "      <td>59360</td>\n",
       "      <td>0.665</td>\n",
       "      <td>25.538</td>\n",
       "      <td>0.000</td>\n",
       "      <td>1,873,329.938</td>\n",
       "      <td>50</td>\n",
       "      <td>...</td>\n",
       "      <td>22</td>\n",
       "      <td>2</td>\n",
       "      <td>Técnicos en tecnologías de la información</td>\n",
       "      <td>NaN</td>\n",
       "      <td>59360</td>\n",
       "      <td>33.273</td>\n",
       "      <td>1,262,663,722.467</td>\n",
       "      <td>50</td>\n",
       "      <td>93,666,496.913</td>\n",
       "      <td>0</td>\n",
       "    </tr>\n",
       "    <tr>\n",
       "      <th>1</th>\n",
       "      <td>Nuevos</td>\n",
       "      <td>INSTITUTO TECNISISTEMAS - TUNJUELITO</td>\n",
       "      <td>Auxiliares en enfermería</td>\n",
       "      <td>TECNICO LABORAL EN AUXILIAR DE ENFERMERÍA</td>\n",
       "      <td>&lt;NA&gt;</td>\n",
       "      <td>0.477</td>\n",
       "      <td>23.600</td>\n",
       "      <td>0.000</td>\n",
       "      <td>8,571,265.577</td>\n",
       "      <td>25</td>\n",
       "      <td>...</td>\n",
       "      <td>&lt;NA&gt;</td>\n",
       "      <td>&lt;NA&gt;</td>\n",
       "      <td>NaN</td>\n",
       "      <td>NaN</td>\n",
       "      <td>&lt;NA&gt;</td>\n",
       "      <td>11.925</td>\n",
       "      <td>129,359,728.926</td>\n",
       "      <td>15</td>\n",
       "      <td>128,568,983.656</td>\n",
       "      <td>10</td>\n",
       "    </tr>\n",
       "    <tr>\n",
       "      <th>2</th>\n",
       "      <td>Nuevos</td>\n",
       "      <td>UNIVERSIDAD DE LA SABANA</td>\n",
       "      <td>Técnicos en tecnologías de la información</td>\n",
       "      <td>TECNICO LABORAL EN ASISTENCIA Y SOPORTE DE TEC...</td>\n",
       "      <td>&lt;NA&gt;</td>\n",
       "      <td>0.665</td>\n",
       "      <td>15.000</td>\n",
       "      <td>0.000</td>\n",
       "      <td>6,606,356.964</td>\n",
       "      <td>50</td>\n",
       "      <td>...</td>\n",
       "      <td>&lt;NA&gt;</td>\n",
       "      <td>&lt;NA&gt;</td>\n",
       "      <td>NaN</td>\n",
       "      <td>NaN</td>\n",
       "      <td>&lt;NA&gt;</td>\n",
       "      <td>33.250</td>\n",
       "      <td>1,262,663,722.467</td>\n",
       "      <td>50</td>\n",
       "      <td>330,317,848.200</td>\n",
       "      <td>0</td>\n",
       "    </tr>\n",
       "    <tr>\n",
       "      <th>3</th>\n",
       "      <td>Nuevos</td>\n",
       "      <td>UNIVERSIDAD DE LA SABANA</td>\n",
       "      <td>Técnicos en tecnologías de la información</td>\n",
       "      <td>TECNICO LABORAL EN MANEJO DE HERRAMIENTAS PARA...</td>\n",
       "      <td>&lt;NA&gt;</td>\n",
       "      <td>0.665</td>\n",
       "      <td>15.000</td>\n",
       "      <td>0.000</td>\n",
       "      <td>6,761,360.485</td>\n",
       "      <td>50</td>\n",
       "      <td>...</td>\n",
       "      <td>&lt;NA&gt;</td>\n",
       "      <td>&lt;NA&gt;</td>\n",
       "      <td>NaN</td>\n",
       "      <td>NaN</td>\n",
       "      <td>&lt;NA&gt;</td>\n",
       "      <td>33.250</td>\n",
       "      <td>1,262,663,722.467</td>\n",
       "      <td>50</td>\n",
       "      <td>338,068,024.250</td>\n",
       "      <td>0</td>\n",
       "    </tr>\n",
       "    <tr>\n",
       "      <th>4</th>\n",
       "      <td>Nuevos</td>\n",
       "      <td>UNIVERSIDAD DE LA SALLE</td>\n",
       "      <td>Técnicos en tecnologías de la información</td>\n",
       "      <td>TÉCNICO LABORAL EN SOPORTE Y MANTENIMIENTO DE TI</td>\n",
       "      <td>&lt;NA&gt;</td>\n",
       "      <td>0.665</td>\n",
       "      <td>15.000</td>\n",
       "      <td>0.000</td>\n",
       "      <td>4,860,309.530</td>\n",
       "      <td>25</td>\n",
       "      <td>...</td>\n",
       "      <td>&lt;NA&gt;</td>\n",
       "      <td>&lt;NA&gt;</td>\n",
       "      <td>NaN</td>\n",
       "      <td>NaN</td>\n",
       "      <td>&lt;NA&gt;</td>\n",
       "      <td>16.625</td>\n",
       "      <td>1,262,663,722.467</td>\n",
       "      <td>25</td>\n",
       "      <td>121,507,738.250</td>\n",
       "      <td>0</td>\n",
       "    </tr>\n",
       "  </tbody>\n",
       "</table>\n",
       "<p>5 rows × 24 columns</p>\n",
       "</div>"
      ],
      "text/plain": [
       "  ruta_habilitada                                 nombre_institucion  \\\n",
       "0          Nuevos  CORPORACIÓN DE EDUCACIÓN TECNOLÓGICA COLSUBSID...   \n",
       "1          Nuevos               INSTITUTO TECNISISTEMAS - TUNJUELITO   \n",
       "2          Nuevos                           UNIVERSIDAD DE LA SABANA   \n",
       "3          Nuevos                           UNIVERSIDAD DE LA SABANA   \n",
       "4          Nuevos                            UNIVERSIDAD DE LA SALLE   \n",
       "\n",
       "                                   ocupacion  \\\n",
       "0  Técnicos en tecnologías de la información   \n",
       "1                   Auxiliares en enfermería   \n",
       "2  Técnicos en tecnologías de la información   \n",
       "3  Técnicos en tecnologías de la información   \n",
       "4  Técnicos en tecnologías de la información   \n",
       "\n",
       "                                     nombre_programa  codigo_programa   ipo  \\\n",
       "0  Técnico Laboral por competencias en Codificaci...            59360 0.665   \n",
       "1          TECNICO LABORAL EN AUXILIAR DE ENFERMERÍA             <NA> 0.477   \n",
       "2  TECNICO LABORAL EN ASISTENCIA Y SOPORTE DE TEC...             <NA> 0.665   \n",
       "3  TECNICO LABORAL EN MANEJO DE HERRAMIENTAS PARA...             <NA> 0.665   \n",
       "4   TÉCNICO LABORAL EN SOPORTE Y MANTENIMIENTO DE TI             <NA> 0.665   \n",
       "\n",
       "   Puntaje (nuevos y cerrados)  Meta de vinculación  valor_programa_indexado  \\\n",
       "0                       25.538                0.000            1,873,329.938   \n",
       "1                       23.600                0.000            8,571,265.577   \n",
       "2                       15.000                0.000            6,606,356.964   \n",
       "3                       15.000                0.000            6,761,360.485   \n",
       "4                       15.000                0.000            4,860,309.530   \n",
       "\n",
       "   numero_cupos_ofertar  ...  cod_CNO2d  cod_CNO1d  \\\n",
       "0                    50  ...         22          2   \n",
       "1                    25  ...       <NA>       <NA>   \n",
       "2                    50  ...       <NA>       <NA>   \n",
       "3                    50  ...       <NA>       <NA>   \n",
       "4                    25  ...       <NA>       <NA>   \n",
       "\n",
       "                                  _ocupacion  isoeft_4d  codigo_programa  \\\n",
       "0  Técnicos en tecnologías de la información        NaN            59360   \n",
       "1                                        NaN        NaN             <NA>   \n",
       "2                                        NaN        NaN             <NA>   \n",
       "3                                        NaN        NaN             <NA>   \n",
       "4                                        NaN        NaN             <NA>   \n",
       "\n",
       "   ipo_ponderado      recursosxcno  cupos_asignados_2E  recurso_asignado_2E  \\\n",
       "0         33.273 1,262,663,722.467                  50       93,666,496.913   \n",
       "1         11.925   129,359,728.926                  15      128,568,983.656   \n",
       "2         33.250 1,262,663,722.467                  50      330,317,848.200   \n",
       "3         33.250 1,262,663,722.467                  50      338,068,024.250   \n",
       "4         16.625 1,262,663,722.467                  25      121,507,738.250   \n",
       "\n",
       "   cupos_sobrantes_2E  \n",
       "0                   0  \n",
       "1                  10  \n",
       "2                   0  \n",
       "3                   0  \n",
       "4                   0  \n",
       "\n",
       "[5 rows x 24 columns]"
      ]
     },
     "execution_count": 17,
     "metadata": {},
     "output_type": "execute_result"
    }
   ],
   "source": [
    "asignacion_nuevos.primera_asignacion.head()"
   ]
  },
  {
   "cell_type": "code",
   "execution_count": 18,
   "id": "363e0d92-2376-41c7-9042-75e21d2c5432",
   "metadata": {},
   "outputs": [
    {
     "name": "stdout",
     "output_type": "stream",
     "text": [
      "Recursos que faltaron por ser asignados en la primera etapa: 400,287,819.2755506\n"
     ]
    }
   ],
   "source": [
    "print(f\"Recursos que faltaron por ser asignados en la primera etapa: {asignacion_nuevos.recursos_disponibles:,}\")"
   ]
  },
  {
   "cell_type": "markdown",
   "id": "17da7b9e-ddca-4fac-ad08-d1aa9dabc6b1",
   "metadata": {},
   "source": [
    "----"
   ]
  },
  {
   "cell_type": "markdown",
   "id": "5517a56f-5706-4399-9d35-b1bf773516f9",
   "metadata": {},
   "source": [
    "## **Ruta Cerrados**"
   ]
  },
  {
   "cell_type": "markdown",
   "id": "123a4f29-7e2b-482a-bed1-34fdb31b1a0f",
   "metadata": {},
   "source": [
    "### **Calcular asignacion de recursos**"
   ]
  },
  {
   "cell_type": "code",
   "execution_count": 19,
   "id": "f136b1e2-d16a-4d1e-b7e8-97af7d0500fa",
   "metadata": {},
   "outputs": [],
   "source": [
    "asignacion_cerrados = AsignacionCerrados(df_cerrados)"
   ]
  },
  {
   "cell_type": "code",
   "execution_count": 20,
   "id": "55b6fcba-62ba-43cd-a285-8a071cc87f84",
   "metadata": {},
   "outputs": [
    {
     "name": "stdout",
     "output_type": "stream",
     "text": [
      "Recursos que faltaron por ser asignados en la primera etapa: 716,543.4978334308\n"
     ]
    }
   ],
   "source": [
    "print(f\"Recursos que faltaron por ser asignados en la primera etapa: {asignacion_cerrados.recursos_disponibles:,}\")"
   ]
  },
  {
   "cell_type": "markdown",
   "id": "ba13da23-f325-45a0-8933-918c6cd8ecb0",
   "metadata": {},
   "source": [
    "-----"
   ]
  },
  {
   "cell_type": "markdown",
   "id": "e4b9210c-3ff5-4b96-a9f0-3f2f53bd284b",
   "metadata": {},
   "source": [
    "## **Calcular Bolsa Común y dispersar recursos remanentes** "
   ]
  },
  {
   "cell_type": "markdown",
   "id": "83c1bcd9-5b4a-46b6-a527-ddb643350332",
   "metadata": {},
   "source": [
    "### **Calcular bolsa comun**"
   ]
  },
  {
   "cell_type": "code",
   "execution_count": 27,
   "id": "d82397e0-ab32-4869-9c98-434d53217d87",
   "metadata": {},
   "outputs": [
    {
     "name": "stdout",
     "output_type": "stream",
     "text": [
      "Recursos en la bolsa comun: 432,865,229.9120893\n"
     ]
    }
   ],
   "source": [
    "bolsa_comun = asignacion_cerrados.recursos_disponibles + asignacion_nuevos.recursos_disponibles + asignacion_antiguos.recursos_disponibles\n",
    "print(f\"Recursos en la bolsa comun: {bolsa_comun:,}\")"
   ]
  },
  {
   "cell_type": "markdown",
   "id": "1eb23559-9a00-439a-9629-ef3bba39c782",
   "metadata": {},
   "source": [
    "**El orden de prioridad de la asignacion es:**\n",
    "1. Cerrados\n",
    "2. Nuevos\n",
    "3. Antiguos\n",
    "\n",
    "La asignacion de los recursos sigue el mismo mecanismo de cada ruta"
   ]
  },
  {
   "cell_type": "markdown",
   "id": "3189ff74-ec5a-4eff-bbb9-187ac5739328",
   "metadata": {},
   "source": [
    "### **Asignar recursos a programas Cerrados**"
   ]
  },
  {
   "cell_type": "code",
   "execution_count": 28,
   "id": "ddb3fa04-18c7-4fb8-9830-72d07a7d49ca",
   "metadata": {},
   "outputs": [],
   "source": [
    "#Seleccionamos los programas que aún tienen cupos para ofrecer\n",
    "programas_remanentes_cerrados = asignacion_cerrados.programas_remanente\n",
    "\n",
    "#limpiamos las columnas que se habian calculado pero que no van a ser necesarias\n",
    "programas_remanentes_cerrados = programas_remanentes_cerrados.drop(\n",
    "    columns = ['numero_cupos_ofertar','recurso_asignado_2E','cupos_asignados_2E']\n",
    ").rename(columns = {\n",
    "    \"cupos_sobrantes_2E\":\"numero_cupos_ofertar\"\n",
    "})\n",
    "\n",
    "#Instanciamos un nuevo objeto para la Asignacion de Antiguos\n",
    "asignacion_cerrados_remanente = AsignacionNuevos(programas_remanentes_cerrados, recursos_iniciales = bolsa_comun)"
   ]
  },
  {
   "cell_type": "code",
   "execution_count": 29,
   "id": "22fe0af1-e6cc-475a-8b77-a440f05b6c66",
   "metadata": {},
   "outputs": [
    {
     "name": "stdout",
     "output_type": "stream",
     "text": [
      "Recursos en la bolsa comun: 10,302,867.528298318\n"
     ]
    }
   ],
   "source": [
    "#Actualizar bolsa comun \n",
    "bolsa_comun = asignacion_cerrados_remanente.recursos_disponibles\n",
    "print(f\"Recursos en la bolsa comun: {bolsa_comun:,}\")"
   ]
  },
  {
   "cell_type": "markdown",
   "id": "01447e24-fc76-49d8-8605-49447fdac615",
   "metadata": {},
   "source": [
    "### **Asignar recursos a programas Nuevos**"
   ]
  },
  {
   "cell_type": "code",
   "execution_count": 30,
   "id": "a3279e34-2a28-416a-91bd-c1dc16a5f430",
   "metadata": {},
   "outputs": [],
   "source": [
    "#Seleccionamos los programas que aún tienen cupos para ofrecer\n",
    "programas_remanentes_nuevos = asignacion_nuevos.programas_remanente\n",
    "\n",
    "#limpiamos las columnas que se habian calculado pero que no van a ser necesarias\n",
    "programas_remanentes_nuevos = programas_remanentes_nuevos.drop(\n",
    "    columns = ['recursosxcno','numero_cupos_ofertar','recurso_asignado_2E','cupos_asignados_2E']\n",
    ").rename(columns = {\n",
    "    \"cupos_sobrantes_2E\":\"numero_cupos_ofertar\"\n",
    "})\n",
    "\n",
    "#Instanciamos un nuevo objeto para la Asignacion de Antiguos\n",
    "asignacion_nuevos_remanente = AsignacionNuevos(programas_remanentes_nuevos, recursos_iniciales = bolsa_comun)"
   ]
  },
  {
   "cell_type": "code",
   "execution_count": 31,
   "id": "c5c07a8d-f9dd-423a-971c-f094566e70fd",
   "metadata": {},
   "outputs": [
    {
     "name": "stdout",
     "output_type": "stream",
     "text": [
      "Recursos en la bolsa comun: 10,302,867.528298318\n"
     ]
    }
   ],
   "source": [
    "#Actualizar bolsa comun \n",
    "bolsa_comun = asignacion_nuevos_remanente.recursos_disponibles\n",
    "print(f\"Recursos en la bolsa comun: {bolsa_comun:,}\")"
   ]
  },
  {
   "cell_type": "markdown",
   "id": "c545a299-f9f4-4988-a63e-3e2307ec1500",
   "metadata": {},
   "source": [
    "### **Asignar recursos a programas Antiguos**"
   ]
  },
  {
   "cell_type": "code",
   "execution_count": 32,
   "id": "a35b6746-f4c7-4eb5-b4e5-666d6eedc45d",
   "metadata": {},
   "outputs": [],
   "source": [
    "#Seleccionamos los programas que aún tienen cupos para ofrecer\n",
    "programas_remanentes_antiguos = asignacion_antiguos.programas_remanente.copy()\n",
    "\n",
    "#limpiamos las columnas que se habian calculado pero que no van a ser necesarias\n",
    "programas_remanentes_antiguos = programas_remanentes_antiguos.drop(\n",
    "    columns = ['recursosxcno','numero_cupos_ofertar','recurso_asignado_2E','cupos_asignados_2E']\n",
    ").rename(columns = {\n",
    "    \"cupos_sobrantes_2E\":\"numero_cupos_ofertar\"\n",
    "})\n",
    "\n",
    "#Instanciamos un nuevo objeto para la Asignacion de Antiguos\n",
    "asignacion_antiguos_remanente = AsignacionAntiguos(programas_remanentes_antiguos, recursos_iniciales = bolsa_comun)"
   ]
  },
  {
   "cell_type": "code",
   "execution_count": 33,
   "id": "a813ed29-5018-470f-9cc1-c70e775777be",
   "metadata": {},
   "outputs": [
    {
     "name": "stdout",
     "output_type": "stream",
     "text": [
      "Recursos en la bolsa comun: 10,302,867.528298318\n"
     ]
    }
   ],
   "source": [
    "#Actualizar bolsa comun \n",
    "bolsa_comun = asignacion_antiguos_remanente.recursos_disponibles\n",
    "print(f\"Recursos en la bolsa comun: {bolsa_comun:,}\")"
   ]
  },
  {
   "cell_type": "code",
   "execution_count": 35,
   "id": "62cbecaf-954a-4cb9-800d-820ea5a1657d",
   "metadata": {},
   "outputs": [],
   "source": [
    "df2_columns = [\n",
    "    'nombre_institucion',\n",
    "    'ocupacion',\n",
    "    'codigo_programa',\n",
    "    'recursosxcno',\n",
    "    'cupos_asignados_2E',\n",
    "    'recurso_asignado_2E',\n",
    "    'cupos_sobrantes_2E'\n",
    "]\n",
    "\n",
    "df1 = asignacion_antiguos.primera_asignacion\n",
    "df2 = asignacion_antiguos_remanente.primera_asignacion\n",
    "\n",
    "merged_df = utils.merge_without_duplicates(\n",
    "    df1, df2, df2_columns=df2_columns,\n",
    "    merge_on=['nombre_institucion','codigo_programa']\n",
    ")\n"
   ]
  },
  {
   "cell_type": "code",
   "execution_count": 36,
   "id": "8fa2db4c-80e6-4556-8214-b5163df96d38",
   "metadata": {},
   "outputs": [
    {
     "data": {
      "text/html": [
       "<div>\n",
       "<style scoped>\n",
       "    .dataframe tbody tr th:only-of-type {\n",
       "        vertical-align: middle;\n",
       "    }\n",
       "\n",
       "    .dataframe tbody tr th {\n",
       "        vertical-align: top;\n",
       "    }\n",
       "\n",
       "    .dataframe thead th {\n",
       "        text-align: right;\n",
       "    }\n",
       "</style>\n",
       "<table border=\"1\" class=\"dataframe\">\n",
       "  <thead>\n",
       "    <tr style=\"text-align: right;\">\n",
       "      <th></th>\n",
       "      <th>ruta_habilitada</th>\n",
       "      <th>nombre_institucion</th>\n",
       "      <th>ocupacion_first</th>\n",
       "      <th>nombre_programa</th>\n",
       "      <th>codigo_programa</th>\n",
       "      <th>ipo</th>\n",
       "      <th>Puntaje (nuevos y cerrados)</th>\n",
       "      <th>Meta de vinculación</th>\n",
       "      <th>valor_programa_indexado</th>\n",
       "      <th>numero_cupos_ofertar</th>\n",
       "      <th>...</th>\n",
       "      <th>recursosxcno_first</th>\n",
       "      <th>cupos_asignados_2E_first</th>\n",
       "      <th>recurso_asignado_2E_first</th>\n",
       "      <th>cupos_sobrantes_2E_first</th>\n",
       "      <th>ocupacion_second</th>\n",
       "      <th>recursosxcno_second</th>\n",
       "      <th>cupos_asignados_2E_second</th>\n",
       "      <th>recurso_asignado_2E_second</th>\n",
       "      <th>cupos_sobrantes_2E_second</th>\n",
       "      <th>_merge</th>\n",
       "    </tr>\n",
       "  </thead>\n",
       "  <tbody>\n",
       "    <tr>\n",
       "      <th>0</th>\n",
       "      <td>Antiguos</td>\n",
       "      <td>CENTRO DE EDUCACION PARA EL TRABAJO - CAFAM</td>\n",
       "      <td>Auxiliares técnicos de instalación, mantenimie...</td>\n",
       "      <td>TECNICO LABORAL POR COMPETENCIAS EN AUXILIAR D...</td>\n",
       "      <td>4342</td>\n",
       "      <td>0.502</td>\n",
       "      <td>NaN</td>\n",
       "      <td>NaN</td>\n",
       "      <td>3,689,772.311</td>\n",
       "      <td>75</td>\n",
       "      <td>...</td>\n",
       "      <td>592,733,486.114</td>\n",
       "      <td>0</td>\n",
       "      <td>0.000</td>\n",
       "      <td>75</td>\n",
       "      <td>Auxiliares técnicos de instalación, mantenimie...</td>\n",
       "      <td>2,172,619.104</td>\n",
       "      <td>0.000</td>\n",
       "      <td>0.000</td>\n",
       "      <td>75</td>\n",
       "      <td>both</td>\n",
       "    </tr>\n",
       "    <tr>\n",
       "      <th>1</th>\n",
       "      <td>Antiguos</td>\n",
       "      <td>CENTRO DE EDUCACION PARA EL TRABAJO - CAFAM</td>\n",
       "      <td>Auxiliares técnicos de instalación, mantenimie...</td>\n",
       "      <td>TECNICO LABORAL POR COMPETENCIAS EN SOPORTE DE...</td>\n",
       "      <td>4378</td>\n",
       "      <td>0.502</td>\n",
       "      <td>NaN</td>\n",
       "      <td>NaN</td>\n",
       "      <td>3,689,772.311</td>\n",
       "      <td>75</td>\n",
       "      <td>...</td>\n",
       "      <td>592,733,486.114</td>\n",
       "      <td>72</td>\n",
       "      <td>265,663,606.379</td>\n",
       "      <td>3</td>\n",
       "      <td>Auxiliares técnicos de instalación, mantenimie...</td>\n",
       "      <td>2,172,619.104</td>\n",
       "      <td>0.000</td>\n",
       "      <td>0.000</td>\n",
       "      <td>3</td>\n",
       "      <td>both</td>\n",
       "    </tr>\n",
       "    <tr>\n",
       "      <th>2</th>\n",
       "      <td>Antiguos</td>\n",
       "      <td>CESDE BOGOTÁ</td>\n",
       "      <td>Auxiliares técnicos de instalación, mantenimie...</td>\n",
       "      <td>TÉCNICO LABORAL COMO AUXILIAR EN SISTEMAS</td>\n",
       "      <td>54885</td>\n",
       "      <td>0.502</td>\n",
       "      <td>NaN</td>\n",
       "      <td>NaN</td>\n",
       "      <td>5,406,154.011</td>\n",
       "      <td>60</td>\n",
       "      <td>...</td>\n",
       "      <td>592,733,486.114</td>\n",
       "      <td>60</td>\n",
       "      <td>324,369,240.660</td>\n",
       "      <td>0</td>\n",
       "      <td>NaN</td>\n",
       "      <td>&lt;NA&gt;</td>\n",
       "      <td>NaN</td>\n",
       "      <td>NaN</td>\n",
       "      <td>&lt;NA&gt;</td>\n",
       "      <td>left_only</td>\n",
       "    </tr>\n",
       "    <tr>\n",
       "      <th>3</th>\n",
       "      <td>Antiguos</td>\n",
       "      <td>CESDE BOGOTÁ</td>\n",
       "      <td>Técnicos en diseño y arte gráfico</td>\n",
       "      <td>TÉCNICO LABORAL COMO AUXILIAR EN DISEÑO GRÁFICO</td>\n",
       "      <td>54888</td>\n",
       "      <td>0.503</td>\n",
       "      <td>NaN</td>\n",
       "      <td>NaN</td>\n",
       "      <td>6,232,522.679</td>\n",
       "      <td>30</td>\n",
       "      <td>...</td>\n",
       "      <td>43,455,052.411</td>\n",
       "      <td>6</td>\n",
       "      <td>37,395,136.074</td>\n",
       "      <td>24</td>\n",
       "      <td>Técnicos en diseño y arte gráfico</td>\n",
       "      <td>187,928.850</td>\n",
       "      <td>0.000</td>\n",
       "      <td>0.000</td>\n",
       "      <td>24</td>\n",
       "      <td>both</td>\n",
       "    </tr>\n",
       "    <tr>\n",
       "      <th>4</th>\n",
       "      <td>Antiguos</td>\n",
       "      <td>CORPORACIÓN DE EDUCACIÓN TECNOLÓGICA COLSUBSID...</td>\n",
       "      <td>Cocineros</td>\n",
       "      <td>TÉCNICO LABORAL EN COCINA</td>\n",
       "      <td>39513</td>\n",
       "      <td>0.554</td>\n",
       "      <td>NaN</td>\n",
       "      <td>NaN</td>\n",
       "      <td>1,688,723.997</td>\n",
       "      <td>75</td>\n",
       "      <td>...</td>\n",
       "      <td>439,314,092.728</td>\n",
       "      <td>50</td>\n",
       "      <td>84,436,199.870</td>\n",
       "      <td>25</td>\n",
       "      <td>Cocineros</td>\n",
       "      <td>1,079,482.599</td>\n",
       "      <td>0.000</td>\n",
       "      <td>0.000</td>\n",
       "      <td>25</td>\n",
       "      <td>both</td>\n",
       "    </tr>\n",
       "  </tbody>\n",
       "</table>\n",
       "<p>5 rows × 29 columns</p>\n",
       "</div>"
      ],
      "text/plain": [
       "  ruta_habilitada                                 nombre_institucion  \\\n",
       "0        Antiguos        CENTRO DE EDUCACION PARA EL TRABAJO - CAFAM   \n",
       "1        Antiguos        CENTRO DE EDUCACION PARA EL TRABAJO - CAFAM   \n",
       "2        Antiguos                                       CESDE BOGOTÁ   \n",
       "3        Antiguos                                       CESDE BOGOTÁ   \n",
       "4        Antiguos  CORPORACIÓN DE EDUCACIÓN TECNOLÓGICA COLSUBSID...   \n",
       "\n",
       "                                     ocupacion_first  \\\n",
       "0  Auxiliares técnicos de instalación, mantenimie...   \n",
       "1  Auxiliares técnicos de instalación, mantenimie...   \n",
       "2  Auxiliares técnicos de instalación, mantenimie...   \n",
       "3                  Técnicos en diseño y arte gráfico   \n",
       "4                                          Cocineros   \n",
       "\n",
       "                                     nombre_programa  codigo_programa   ipo  \\\n",
       "0  TECNICO LABORAL POR COMPETENCIAS EN AUXILIAR D...             4342 0.502   \n",
       "1  TECNICO LABORAL POR COMPETENCIAS EN SOPORTE DE...             4378 0.502   \n",
       "2          TÉCNICO LABORAL COMO AUXILIAR EN SISTEMAS            54885 0.502   \n",
       "3    TÉCNICO LABORAL COMO AUXILIAR EN DISEÑO GRÁFICO            54888 0.503   \n",
       "4                          TÉCNICO LABORAL EN COCINA            39513 0.554   \n",
       "\n",
       "   Puntaje (nuevos y cerrados)  Meta de vinculación  valor_programa_indexado  \\\n",
       "0                          NaN                  NaN            3,689,772.311   \n",
       "1                          NaN                  NaN            3,689,772.311   \n",
       "2                          NaN                  NaN            5,406,154.011   \n",
       "3                          NaN                  NaN            6,232,522.679   \n",
       "4                          NaN                  NaN            1,688,723.997   \n",
       "\n",
       "   numero_cupos_ofertar  ...  recursosxcno_first  cupos_asignados_2E_first  \\\n",
       "0                    75  ...     592,733,486.114                         0   \n",
       "1                    75  ...     592,733,486.114                        72   \n",
       "2                    60  ...     592,733,486.114                        60   \n",
       "3                    30  ...      43,455,052.411                         6   \n",
       "4                    75  ...     439,314,092.728                        50   \n",
       "\n",
       "   recurso_asignado_2E_first  cupos_sobrantes_2E_first  \\\n",
       "0                      0.000                        75   \n",
       "1            265,663,606.379                         3   \n",
       "2            324,369,240.660                         0   \n",
       "3             37,395,136.074                        24   \n",
       "4             84,436,199.870                        25   \n",
       "\n",
       "                                    ocupacion_second  recursosxcno_second  \\\n",
       "0  Auxiliares técnicos de instalación, mantenimie...        2,172,619.104   \n",
       "1  Auxiliares técnicos de instalación, mantenimie...        2,172,619.104   \n",
       "2                                                NaN                 <NA>   \n",
       "3                  Técnicos en diseño y arte gráfico          187,928.850   \n",
       "4                                          Cocineros        1,079,482.599   \n",
       "\n",
       "  cupos_asignados_2E_second  recurso_asignado_2E_second  \\\n",
       "0                     0.000                       0.000   \n",
       "1                     0.000                       0.000   \n",
       "2                       NaN                         NaN   \n",
       "3                     0.000                       0.000   \n",
       "4                     0.000                       0.000   \n",
       "\n",
       "   cupos_sobrantes_2E_second     _merge  \n",
       "0                         75       both  \n",
       "1                          3       both  \n",
       "2                       <NA>  left_only  \n",
       "3                         24       both  \n",
       "4                         25       both  \n",
       "\n",
       "[5 rows x 29 columns]"
      ]
     },
     "execution_count": 36,
     "metadata": {},
     "output_type": "execute_result"
    }
   ],
   "source": [
    "merged_df.head()"
   ]
  },
  {
   "cell_type": "code",
   "execution_count": null,
   "id": "e1f709ef-0091-4c1a-b517-73a3e540172e",
   "metadata": {},
   "outputs": [],
   "source": []
  }
 ],
 "metadata": {
  "kernelspec": {
   "display_name": "Python 3 (ipykernel)",
   "language": "python",
   "name": "python3"
  },
  "language_info": {
   "codemirror_mode": {
    "name": "ipython",
    "version": 3
   },
   "file_extension": ".py",
   "mimetype": "text/x-python",
   "name": "python",
   "nbconvert_exporter": "python",
   "pygments_lexer": "ipython3",
   "version": "3.13.5"
  }
 },
 "nbformat": 4,
 "nbformat_minor": 5
}
