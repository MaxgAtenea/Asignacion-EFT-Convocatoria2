{
 "cells": [
  {
   "cell_type": "markdown",
   "id": "105b55ad-ea62-4af6-ab0e-cbc7d9f5e1dc",
   "metadata": {},
   "source": [
    "## Fijar el absolute path un directorio arriba"
   ]
  },
  {
   "cell_type": "code",
   "execution_count": 1,
   "id": "f325d07d-db01-49cb-98e8-16566ec02c8d",
   "metadata": {},
   "outputs": [],
   "source": [
    "import sys\n",
    "import os\n",
    "\n",
    "# Add project root to Python path\n",
    "project_root = os.path.abspath(os.path.join(os.getcwd(), \"..\"))\n",
    "if project_root not in sys.path:\n",
    "    sys.path.append(project_root)"
   ]
  },
  {
   "cell_type": "markdown",
   "id": "fe0f2a5a-ce92-4f70-86a5-1519b31aa025",
   "metadata": {},
   "source": [
    "-----"
   ]
  },
  {
   "cell_type": "code",
   "execution_count": 2,
   "id": "7bd07de8-7a09-4887-ba04-eaf3548832ad",
   "metadata": {},
   "outputs": [],
   "source": [
    "import pandas as pd\n",
    "import asignacion.utils as utils\n",
    "\n",
    "from asignacion.base import AsignacionBase\n",
    "from asignacion.nuevosyantiguos import AsignacionNuevosAntiguos\n",
    "from asignacion.antiguos import AsignacionAntiguos\n",
    "from asignacion.nuevos import AsignacionNuevos\n",
    "from asignacion.constants import RECURSOS_POR_RUTA"
   ]
  },
  {
   "cell_type": "code",
   "execution_count": 3,
   "id": "cb985c57-1a31-416c-bdd2-973f47485bd3",
   "metadata": {},
   "outputs": [],
   "source": [
    "#Display options\n",
    "# Set pandas display format globally\n",
    "pd.options.display.float_format = \"{:,.3f}\".format"
   ]
  },
  {
   "cell_type": "markdown",
   "id": "d1dd79e4-044e-4644-a746-ef7dc1f7d6f1",
   "metadata": {},
   "source": [
    "# **Constantes**"
   ]
  },
  {
   "cell_type": "code",
   "execution_count": 4,
   "id": "6e441eb2-a713-42c7-b57b-a9618522d3ca",
   "metadata": {},
   "outputs": [],
   "source": [
    "NOMBRE_ARCHIVO_HABILITADOS = \"Habilitados final 26052025.xlsx\"\n",
    "NOMBRE_ARCHIVO_COMPLEMENTARIO = \"Base final - Oferta Activa.pkl\""
   ]
  },
  {
   "cell_type": "markdown",
   "id": "53ada2db-e31a-483e-9bb9-f59459813663",
   "metadata": {},
   "source": [
    "# **Ejecución**"
   ]
  },
  {
   "cell_type": "code",
   "execution_count": 5,
   "id": "f36282ed-ca76-4884-9fe0-e782f71f3008",
   "metadata": {},
   "outputs": [],
   "source": [
    "asignacion_base = AsignacionBase()"
   ]
  },
  {
   "cell_type": "code",
   "execution_count": 6,
   "id": "c1e5043a-9de2-46a3-afa1-8268f3ba8d68",
   "metadata": {},
   "outputs": [
    {
     "name": "stdout",
     "output_type": "stream",
     "text": [
      "Los errores quedaron logeados en: ..\\output\\logs\\validacion.log\n"
     ]
    },
    {
     "name": "stderr",
     "output_type": "stream",
     "text": [
      "C:\\Users\\Max\\Documents\\Atenea\\Despacho\\Asignacion-EFT-Convocatoria2\\asignacion\\base.py:135: UserWarning: Existen columnas con espacios adicionales\n",
      "  warnings.warn(\"Existen columnas con espacios adicionales\", category=UserWarning)\n",
      "C:\\Users\\Max\\Documents\\Atenea\\Despacho\\Asignacion-EFT-Convocatoria2\\asignacion\\base.py:159: UserWarning: Existen columnas indispensables con valores nulos\n",
      "  warnings.warn(\"Existen columnas indispensables con valores nulos\", category=UserWarning)\n",
      "C:\\Users\\Max\\Documents\\Atenea\\Despacho\\Asignacion-EFT-Convocatoria2\\asignacion\\base.py:170: UserWarning: Existen columnas indispensables con tipado no adecuado\n",
      "  warnings.warn(\"Existen columnas indispensables con tipado no adecuado\", category=UserWarning)\n"
     ]
    }
   ],
   "source": [
    "asignacion_base.validar_datos(NOMBRE_ARCHIVO_HABILITADOS)"
   ]
  },
  {
   "cell_type": "code",
   "execution_count": 7,
   "id": "2aa2eab8-40d5-43a5-a710-93c4662c4600",
   "metadata": {},
   "outputs": [
    {
     "name": "stdout",
     "output_type": "stream",
     "text": [
      "La llave es: codigo_programa. Ver diccionario para mayor detalle.\n",
      "Programas que cruzaron: 39\n",
      "Programas que NO cruzaron: 6\n"
     ]
    }
   ],
   "source": [
    "rutas = asignacion_base.crear_rutas(NOMBRE_ARCHIVO_HABILITADOS, NOMBRE_ARCHIVO_COMPLEMENTARIO)"
   ]
  },
  {
   "cell_type": "markdown",
   "id": "d9675961-b223-40f9-bb93-055fbc9c602a",
   "metadata": {},
   "source": [
    "## **Distribución Recursos por Ruta**"
   ]
  },
  {
   "cell_type": "code",
   "execution_count": 8,
   "id": "57cf3df7-8dc6-4854-89ea-b40db577811e",
   "metadata": {},
   "outputs": [
    {
     "name": "stdout",
     "output_type": "stream",
     "text": [
      "Ruta       |             Recursos\n",
      "-----------------------------------\n",
      "antiguos   |        2.825.099.258\n",
      "nuevos     |        2.118.824.444\n",
      "cerrados   |        2.118.824.444\n"
     ]
    }
   ],
   "source": [
    "utils.imprimir_recursos_por_ruta(RECURSOS_POR_RUTA)"
   ]
  },
  {
   "cell_type": "markdown",
   "id": "bebb92d6-9bb4-4caa-9e39-68a230246963",
   "metadata": {},
   "source": [
    "## **Ruta Antiguos**"
   ]
  },
  {
   "cell_type": "code",
   "execution_count": 32,
   "id": "c5087834-4aba-4afa-829d-41f87b587890",
   "metadata": {},
   "outputs": [],
   "source": [
    "#Obtener los datos de la ruta antigua\n",
    "df_antiguos = rutas['Antiguos']\n",
    "df_nuevos = rutas['Nuevos']\n",
    "df_cerrados = rutas['Grupos cerrados']"
   ]
  },
  {
   "cell_type": "markdown",
   "id": "e02e638f-afce-484b-b5fd-64f7a4f9a7d8",
   "metadata": {},
   "source": [
    "### Calcular recursos por CNO para Antiguos"
   ]
  },
  {
   "cell_type": "code",
   "execution_count": 10,
   "id": "9f2da887-d3a3-413e-b026-512b29cade10",
   "metadata": {},
   "outputs": [],
   "source": [
    "asignacion_nuevos_antiguos = AsignacionNuevosAntiguos(df_antiguos, \"antiguos\")"
   ]
  },
  {
   "cell_type": "code",
   "execution_count": 11,
   "id": "8798f7b9-0fd8-4a01-a766-44e31ce52c5f",
   "metadata": {},
   "outputs": [
    {
     "data": {
      "text/html": [
       "<div>\n",
       "<style scoped>\n",
       "    .dataframe tbody tr th:only-of-type {\n",
       "        vertical-align: middle;\n",
       "    }\n",
       "\n",
       "    .dataframe tbody tr th {\n",
       "        vertical-align: top;\n",
       "    }\n",
       "\n",
       "    .dataframe thead th {\n",
       "        text-align: right;\n",
       "    }\n",
       "</style>\n",
       "<table border=\"1\" class=\"dataframe\">\n",
       "  <thead>\n",
       "    <tr style=\"text-align: right;\">\n",
       "      <th></th>\n",
       "      <th>cod_CNO</th>\n",
       "      <th>ipo_ponderado</th>\n",
       "      <th>cuposxcno</th>\n",
       "      <th>ipo</th>\n",
       "      <th>n_programas</th>\n",
       "      <th>participacion_ipo</th>\n",
       "      <th>recursosxcno</th>\n",
       "    </tr>\n",
       "  </thead>\n",
       "  <tbody>\n",
       "    <tr>\n",
       "      <th>0</th>\n",
       "      <td>1231</td>\n",
       "      <td>96.553</td>\n",
       "      <td>200</td>\n",
       "      <td>0.966</td>\n",
       "      <td>2</td>\n",
       "      <td>0.081</td>\n",
       "      <td>230,222,250.192</td>\n",
       "    </tr>\n",
       "    <tr>\n",
       "      <th>1</th>\n",
       "      <td>1345</td>\n",
       "      <td>99.746</td>\n",
       "      <td>160</td>\n",
       "      <td>1.247</td>\n",
       "      <td>2</td>\n",
       "      <td>0.084</td>\n",
       "      <td>237,836,186.175</td>\n",
       "    </tr>\n",
       "    <tr>\n",
       "      <th>2</th>\n",
       "      <td>2242</td>\n",
       "      <td>40.669</td>\n",
       "      <td>75</td>\n",
       "      <td>0.542</td>\n",
       "      <td>1</td>\n",
       "      <td>0.034</td>\n",
       "      <td>96,971,010.570</td>\n",
       "    </tr>\n",
       "    <tr>\n",
       "      <th>3</th>\n",
       "      <td>2281</td>\n",
       "      <td>55.234</td>\n",
       "      <td>83</td>\n",
       "      <td>0.665</td>\n",
       "      <td>1</td>\n",
       "      <td>0.047</td>\n",
       "      <td>131,700,148.380</td>\n",
       "    </tr>\n",
       "    <tr>\n",
       "      <th>4</th>\n",
       "      <td>3311</td>\n",
       "      <td>47.734</td>\n",
       "      <td>100</td>\n",
       "      <td>0.477</td>\n",
       "      <td>1</td>\n",
       "      <td>0.040</td>\n",
       "      <td>113,817,752.930</td>\n",
       "    </tr>\n",
       "    <tr>\n",
       "      <th>5</th>\n",
       "      <td>3315</td>\n",
       "      <td>95.979</td>\n",
       "      <td>160</td>\n",
       "      <td>1.200</td>\n",
       "      <td>2</td>\n",
       "      <td>0.081</td>\n",
       "      <td>228,853,504.614</td>\n",
       "    </tr>\n",
       "    <tr>\n",
       "      <th>6</th>\n",
       "      <td>4311</td>\n",
       "      <td>143.197</td>\n",
       "      <td>300</td>\n",
       "      <td>1.432</td>\n",
       "      <td>3</td>\n",
       "      <td>0.121</td>\n",
       "      <td>341,440,656.523</td>\n",
       "    </tr>\n",
       "    <tr>\n",
       "      <th>7</th>\n",
       "      <td>5223</td>\n",
       "      <td>15.083</td>\n",
       "      <td>30</td>\n",
       "      <td>0.503</td>\n",
       "      <td>1</td>\n",
       "      <td>0.013</td>\n",
       "      <td>35,964,177.517</td>\n",
       "    </tr>\n",
       "    <tr>\n",
       "      <th>8</th>\n",
       "      <td>6234</td>\n",
       "      <td>32.624</td>\n",
       "      <td>60</td>\n",
       "      <td>0.544</td>\n",
       "      <td>1</td>\n",
       "      <td>0.028</td>\n",
       "      <td>77,788,312.407</td>\n",
       "    </tr>\n",
       "    <tr>\n",
       "      <th>9</th>\n",
       "      <td>6322</td>\n",
       "      <td>158.196</td>\n",
       "      <td>285</td>\n",
       "      <td>1.110</td>\n",
       "      <td>2</td>\n",
       "      <td>0.134</td>\n",
       "      <td>377,204,925.607</td>\n",
       "    </tr>\n",
       "    <tr>\n",
       "      <th>10</th>\n",
       "      <td>6355</td>\n",
       "      <td>194.070</td>\n",
       "      <td>350</td>\n",
       "      <td>2.218</td>\n",
       "      <td>4</td>\n",
       "      <td>0.164</td>\n",
       "      <td>462,743,514.087</td>\n",
       "    </tr>\n",
       "    <tr>\n",
       "      <th>11</th>\n",
       "      <td>8325</td>\n",
       "      <td>205.735</td>\n",
       "      <td>410</td>\n",
       "      <td>2.509</td>\n",
       "      <td>5</td>\n",
       "      <td>0.174</td>\n",
       "      <td>490,556,819.797</td>\n",
       "    </tr>\n",
       "  </tbody>\n",
       "</table>\n",
       "</div>"
      ],
      "text/plain": [
       "    cod_CNO  ipo_ponderado  cuposxcno   ipo  n_programas  participacion_ipo  \\\n",
       "0      1231         96.553        200 0.966            2              0.081   \n",
       "1      1345         99.746        160 1.247            2              0.084   \n",
       "2      2242         40.669         75 0.542            1              0.034   \n",
       "3      2281         55.234         83 0.665            1              0.047   \n",
       "4      3311         47.734        100 0.477            1              0.040   \n",
       "5      3315         95.979        160 1.200            2              0.081   \n",
       "6      4311        143.197        300 1.432            3              0.121   \n",
       "7      5223         15.083         30 0.503            1              0.013   \n",
       "8      6234         32.624         60 0.544            1              0.028   \n",
       "9      6322        158.196        285 1.110            2              0.134   \n",
       "10     6355        194.070        350 2.218            4              0.164   \n",
       "11     8325        205.735        410 2.509            5              0.174   \n",
       "\n",
       "      recursosxcno  \n",
       "0  230,222,250.192  \n",
       "1  237,836,186.175  \n",
       "2   96,971,010.570  \n",
       "3  131,700,148.380  \n",
       "4  113,817,752.930  \n",
       "5  228,853,504.614  \n",
       "6  341,440,656.523  \n",
       "7   35,964,177.517  \n",
       "8   77,788,312.407  \n",
       "9  377,204,925.607  \n",
       "10 462,743,514.087  \n",
       "11 490,556,819.797  "
      ]
     },
     "execution_count": 11,
     "metadata": {},
     "output_type": "execute_result"
    }
   ],
   "source": [
    "asignacion_nuevos_antiguos.recursosxcno"
   ]
  },
  {
   "cell_type": "markdown",
   "id": "b3d92582-b0f9-4c74-9709-a7a85eb0199f",
   "metadata": {},
   "source": [
    "### Calcular asignación de recursos"
   ]
  },
  {
   "cell_type": "code",
   "execution_count": 18,
   "id": "1b19905b-6f75-47dd-8ccc-fee08e632eb7",
   "metadata": {},
   "outputs": [],
   "source": [
    "asignacion_antiguos = AsignacionAntiguos(df_antiguos)"
   ]
  },
  {
   "cell_type": "code",
   "execution_count": 19,
   "id": "8c3e27b9-dba6-471f-8783-ea1c16155ac6",
   "metadata": {},
   "outputs": [
    {
     "name": "stdout",
     "output_type": "stream",
     "text": [
      "Recursos que faltaron por ser asignados en la primera etapa: 31,860,867.138705254\n"
     ]
    }
   ],
   "source": [
    "print(f\"Recursos que faltaron por ser asignados en la primera etapa: {asignacion_antiguos.recursos_disponibles:,}\")"
   ]
  },
  {
   "cell_type": "markdown",
   "id": "a023088f-4438-47a5-a394-a56da2e58cc2",
   "metadata": {},
   "source": [
    "columnas = ['ocupacion','codigo_programa','cod_CNO','ipo','isoeft_4d','recurso_asignado_2E','recurso_asignado_3E','Total_Recurso_Asignado']\n",
    "asignacion_antiguos.segunda_asignacion[columnas].head()"
   ]
  },
  {
   "cell_type": "markdown",
   "id": "72bbfba5-1950-4c0d-bab2-c8300b0134f4",
   "metadata": {},
   "source": [
    "## **Ruta Nuevos**"
   ]
  },
  {
   "cell_type": "code",
   "execution_count": 20,
   "id": "5f406794-3f49-4d7f-9a3f-72b9801ca860",
   "metadata": {},
   "outputs": [],
   "source": [
    "asignacion_nuevos = AsignacionNuevos(df_nuevos)"
   ]
  },
  {
   "cell_type": "code",
   "execution_count": 22,
   "id": "87f49b2d-c8c7-4aba-bfec-8045e8869d62",
   "metadata": {},
   "outputs": [
    {
     "data": {
      "text/html": [
       "<div>\n",
       "<style scoped>\n",
       "    .dataframe tbody tr th:only-of-type {\n",
       "        vertical-align: middle;\n",
       "    }\n",
       "\n",
       "    .dataframe tbody tr th {\n",
       "        vertical-align: top;\n",
       "    }\n",
       "\n",
       "    .dataframe thead th {\n",
       "        text-align: right;\n",
       "    }\n",
       "</style>\n",
       "<table border=\"1\" class=\"dataframe\">\n",
       "  <thead>\n",
       "    <tr style=\"text-align: right;\">\n",
       "      <th></th>\n",
       "      <th>cod_CNO</th>\n",
       "      <th>recurso_asignado_2E</th>\n",
       "      <th>cupos_asignados_2E</th>\n",
       "      <th>recursosxcno</th>\n",
       "      <th>numero_cupos_ofertar</th>\n",
       "      <th>Saldo_No_Asignado_2E</th>\n",
       "      <th>cupos_no_asignados_2E</th>\n",
       "    </tr>\n",
       "  </thead>\n",
       "  <tbody>\n",
       "    <tr>\n",
       "      <th>0</th>\n",
       "      <td>2,281.000</td>\n",
       "      <td>883,560,107.613</td>\n",
       "      <td>175</td>\n",
       "      <td>1,262,663,722.467</td>\n",
       "      <td>175</td>\n",
       "      <td>379,103,614.855</td>\n",
       "      <td>0</td>\n",
       "    </tr>\n",
       "    <tr>\n",
       "      <th>1</th>\n",
       "      <td>2,321.000</td>\n",
       "      <td>146,773,960.657</td>\n",
       "      <td>24</td>\n",
       "      <td>149,428,114.545</td>\n",
       "      <td>25</td>\n",
       "      <td>2,654,153.888</td>\n",
       "      <td>1</td>\n",
       "    </tr>\n",
       "    <tr>\n",
       "      <th>2</th>\n",
       "      <td>3,311.000</td>\n",
       "      <td>128,568,983.656</td>\n",
       "      <td>15</td>\n",
       "      <td>129,359,728.926</td>\n",
       "      <td>25</td>\n",
       "      <td>790,745.270</td>\n",
       "      <td>10</td>\n",
       "    </tr>\n",
       "    <tr>\n",
       "      <th>3</th>\n",
       "      <td>6,233.000</td>\n",
       "      <td>137,285,276.350</td>\n",
       "      <td>23</td>\n",
       "      <td>141,834,671.338</td>\n",
       "      <td>25</td>\n",
       "      <td>4,549,394.988</td>\n",
       "      <td>2</td>\n",
       "    </tr>\n",
       "    <tr>\n",
       "      <th>4</th>\n",
       "      <td>6,374.000</td>\n",
       "      <td>146,773,960.657</td>\n",
       "      <td>24</td>\n",
       "      <td>151,326,475.347</td>\n",
       "      <td>25</td>\n",
       "      <td>4,552,514.690</td>\n",
       "      <td>1</td>\n",
       "    </tr>\n",
       "    <tr>\n",
       "      <th>5</th>\n",
       "      <td>6,642.000</td>\n",
       "      <td>139,975,610.849</td>\n",
       "      <td>25</td>\n",
       "      <td>148,072,142.544</td>\n",
       "      <td>25</td>\n",
       "      <td>8,096,531.695</td>\n",
       "      <td>0</td>\n",
       "    </tr>\n",
       "    <tr>\n",
       "      <th>6</th>\n",
       "      <td>8,325.000</td>\n",
       "      <td>135,598,725.043</td>\n",
       "      <td>23</td>\n",
       "      <td>136,139,588.932</td>\n",
       "      <td>25</td>\n",
       "      <td>540,863.889</td>\n",
       "      <td>2</td>\n",
       "    </tr>\n",
       "  </tbody>\n",
       "</table>\n",
       "</div>"
      ],
      "text/plain": [
       "    cod_CNO  recurso_asignado_2E  cupos_asignados_2E      recursosxcno  \\\n",
       "0 2,281.000      883,560,107.613                 175 1,262,663,722.467   \n",
       "1 2,321.000      146,773,960.657                  24   149,428,114.545   \n",
       "2 3,311.000      128,568,983.656                  15   129,359,728.926   \n",
       "3 6,233.000      137,285,276.350                  23   141,834,671.338   \n",
       "4 6,374.000      146,773,960.657                  24   151,326,475.347   \n",
       "5 6,642.000      139,975,610.849                  25   148,072,142.544   \n",
       "6 8,325.000      135,598,725.043                  23   136,139,588.932   \n",
       "\n",
       "   numero_cupos_ofertar  Saldo_No_Asignado_2E  cupos_no_asignados_2E  \n",
       "0                   175       379,103,614.855                      0  \n",
       "1                    25         2,654,153.888                      1  \n",
       "2                    25           790,745.270                     10  \n",
       "3                    25         4,549,394.988                      2  \n",
       "4                    25         4,552,514.690                      1  \n",
       "5                    25         8,096,531.695                      0  \n",
       "6                    25           540,863.889                      2  "
      ]
     },
     "execution_count": 22,
     "metadata": {},
     "output_type": "execute_result"
    }
   ],
   "source": [
    "asignacion_nuevos.asignacion"
   ]
  },
  {
   "cell_type": "code",
   "execution_count": 23,
   "id": "363e0d92-2376-41c7-9042-75e21d2c5432",
   "metadata": {},
   "outputs": [
    {
     "name": "stdout",
     "output_type": "stream",
     "text": [
      "Recursos que faltaron por ser asignados en la primera etapa: 400,287,819.2755506\n"
     ]
    }
   ],
   "source": [
    "print(f\"Recursos que faltaron por ser asignados en la primera etapa: {asignacion_nuevos.recursos_disponibles:,}\")"
   ]
  },
  {
   "cell_type": "markdown",
   "id": "5517a56f-5706-4399-9d35-b1bf773516f9",
   "metadata": {},
   "source": [
    "## **Ruta Cerrados**"
   ]
  },
  {
   "cell_type": "code",
   "execution_count": 33,
   "id": "f136b1e2-d16a-4d1e-b7e8-97af7d0500fa",
   "metadata": {},
   "outputs": [],
   "source": [
    "asignacion_cerrados = AsignacionNuevos(df_cerrados)"
   ]
  },
  {
   "cell_type": "code",
   "execution_count": 34,
   "id": "1f2f1bc0-16e1-4c78-a815-bdd96c92f4f4",
   "metadata": {},
   "outputs": [
    {
     "data": {
      "text/html": [
       "<div>\n",
       "<style scoped>\n",
       "    .dataframe tbody tr th:only-of-type {\n",
       "        vertical-align: middle;\n",
       "    }\n",
       "\n",
       "    .dataframe tbody tr th {\n",
       "        vertical-align: top;\n",
       "    }\n",
       "\n",
       "    .dataframe thead th {\n",
       "        text-align: right;\n",
       "    }\n",
       "</style>\n",
       "<table border=\"1\" class=\"dataframe\">\n",
       "  <thead>\n",
       "    <tr style=\"text-align: right;\">\n",
       "      <th></th>\n",
       "      <th>cod_CNO</th>\n",
       "      <th>recurso_asignado_2E</th>\n",
       "      <th>cupos_asignados_2E</th>\n",
       "      <th>recursosxcno</th>\n",
       "      <th>numero_cupos_ofertar</th>\n",
       "      <th>Saldo_No_Asignado_2E</th>\n",
       "      <th>cupos_no_asignados_2E</th>\n",
       "    </tr>\n",
       "  </thead>\n",
       "  <tbody>\n",
       "    <tr>\n",
       "      <th>0</th>\n",
       "      <td>1,341.000</td>\n",
       "      <td>591,475,177.790</td>\n",
       "      <td>120</td>\n",
       "      <td>592,196,472.143</td>\n",
       "      <td>300</td>\n",
       "      <td>721,294.352</td>\n",
       "      <td>180</td>\n",
       "    </tr>\n",
       "    <tr>\n",
       "      <th>1</th>\n",
       "      <td>1,345.000</td>\n",
       "      <td>643,922,892.862</td>\n",
       "      <td>99</td>\n",
       "      <td>644,135,381.150</td>\n",
       "      <td>240</td>\n",
       "      <td>212,488.288</td>\n",
       "      <td>141</td>\n",
       "    </tr>\n",
       "    <tr>\n",
       "      <th>2</th>\n",
       "      <td>3,315.000</td>\n",
       "      <td>619,454,360.941</td>\n",
       "      <td>100</td>\n",
       "      <td>619,807,447.271</td>\n",
       "      <td>240</td>\n",
       "      <td>353,086.331</td>\n",
       "      <td>140</td>\n",
       "    </tr>\n",
       "    <tr>\n",
       "      <th>3</th>\n",
       "      <td>6,322.000</td>\n",
       "      <td>91,398,627.900</td>\n",
       "      <td>19</td>\n",
       "      <td>95,587,356.262</td>\n",
       "      <td>40</td>\n",
       "      <td>4,188,728.362</td>\n",
       "      <td>21</td>\n",
       "    </tr>\n",
       "    <tr>\n",
       "      <th>4</th>\n",
       "      <td>6,334.000</td>\n",
       "      <td>33,673,178.700</td>\n",
       "      <td>7</td>\n",
       "      <td>37,479,978.591</td>\n",
       "      <td>20</td>\n",
       "      <td>3,806,799.891</td>\n",
       "      <td>13</td>\n",
       "    </tr>\n",
       "    <tr>\n",
       "      <th>5</th>\n",
       "      <td>8,325.000</td>\n",
       "      <td>124,341,542.253</td>\n",
       "      <td>23</td>\n",
       "      <td>129,617,808.683</td>\n",
       "      <td>60</td>\n",
       "      <td>5,276,266.430</td>\n",
       "      <td>37</td>\n",
       "    </tr>\n",
       "  </tbody>\n",
       "</table>\n",
       "</div>"
      ],
      "text/plain": [
       "    cod_CNO  recurso_asignado_2E  cupos_asignados_2E    recursosxcno  \\\n",
       "0 1,341.000      591,475,177.790                 120 592,196,472.143   \n",
       "1 1,345.000      643,922,892.862                  99 644,135,381.150   \n",
       "2 3,315.000      619,454,360.941                 100 619,807,447.271   \n",
       "3 6,322.000       91,398,627.900                  19  95,587,356.262   \n",
       "4 6,334.000       33,673,178.700                   7  37,479,978.591   \n",
       "5 8,325.000      124,341,542.253                  23 129,617,808.683   \n",
       "\n",
       "   numero_cupos_ofertar  Saldo_No_Asignado_2E  cupos_no_asignados_2E  \n",
       "0                   300           721,294.352                    180  \n",
       "1                   240           212,488.288                    141  \n",
       "2                   240           353,086.331                    140  \n",
       "3                    40         4,188,728.362                     21  \n",
       "4                    20         3,806,799.891                     13  \n",
       "5                    60         5,276,266.430                     37  "
      ]
     },
     "execution_count": 34,
     "metadata": {},
     "output_type": "execute_result"
    }
   ],
   "source": [
    "asignacion_cerrados.asignacion"
   ]
  },
  {
   "cell_type": "code",
   "execution_count": 36,
   "id": "55b6fcba-62ba-43cd-a285-8a071cc87f84",
   "metadata": {},
   "outputs": [
    {
     "name": "stdout",
     "output_type": "stream",
     "text": [
      "Recursos que faltaron por ser asignados en la primera etapa: 14,558,663.654216528\n"
     ]
    }
   ],
   "source": [
    "print(f\"Recursos que faltaron por ser asignados en la primera etapa: {asignacion_cerrados.recursos_disponibles:,}\")"
   ]
  }
 ],
 "metadata": {
  "kernelspec": {
   "display_name": "Python 3 (ipykernel)",
   "language": "python",
   "name": "python3"
  },
  "language_info": {
   "codemirror_mode": {
    "name": "ipython",
    "version": 3
   },
   "file_extension": ".py",
   "mimetype": "text/x-python",
   "name": "python",
   "nbconvert_exporter": "python",
   "pygments_lexer": "ipython3",
   "version": "3.13.5"
  }
 },
 "nbformat": 4,
 "nbformat_minor": 5
}
